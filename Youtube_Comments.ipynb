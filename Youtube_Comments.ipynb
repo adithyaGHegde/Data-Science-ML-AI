{
  "nbformat": 4,
  "nbformat_minor": 0,
  "metadata": {
    "colab": {
      "name": "Youtube Comments.ipynb",
      "provenance": [],
      "collapsed_sections": [],
      "authorship_tag": "ABX9TyPO5ik/+/pVL9yaPjfgQFCj",
      "include_colab_link": true
    },
    "kernelspec": {
      "name": "python3",
      "display_name": "Python 3"
    },
    "language_info": {
      "name": "python"
    }
  },
  "cells": [
    {
      "cell_type": "markdown",
      "metadata": {
        "id": "view-in-github",
        "colab_type": "text"
      },
      "source": [
        "<a href=\"https://colab.research.google.com/github/adithyaGHegde/Data-Science-ML-AI/blob/main/Youtube_Comments.ipynb\" target=\"_parent\"><img src=\"https://colab.research.google.com/assets/colab-badge.svg\" alt=\"Open In Colab\"/></a>"
      ]
    },
    {
      "cell_type": "code",
      "execution_count": 1,
      "metadata": {
        "id": "MU4zRvpDaxDf"
      },
      "outputs": [],
      "source": [
        "import pandas as pd\n",
        "import urllib.request\n",
        "import re\n",
        "import os\n",
        "# from dotenv import load_dotenv\n",
        "# load_dotenv()\n",
        "API_KEY = \"\"\n"
      ]
    },
    {
      "cell_type": "code",
      "source": [
        "from googleapiclient.discovery import build\n",
        "# creating youtube resource object\n",
        "youtube = build(\"youtube\", \"v3\", developerKey = API_KEY)"
      ],
      "metadata": {
        "id": "zN6vhh02a1wP"
      },
      "execution_count": 2,
      "outputs": []
    },
    {
      "cell_type": "code",
      "source": [
        "def checkparameter(dict,key):\n",
        "    if key in dict:\n",
        "        return dict[key]\n",
        "    else:\n",
        "        return None"
      ],
      "metadata": {
        "id": "0aJ08Ev8GA7U"
      },
      "execution_count": 3,
      "outputs": []
    },
    {
      "cell_type": "code",
      "source": [
        "def get_comment_data(video_id):\n",
        "\n",
        "    replies = []\n",
        "    count = 0\n",
        "\n",
        "    list_of_comments = []\n",
        "\n",
        "\n",
        "    if \"commentCount\" in (youtube.videos().list(part=\"statistics\",id=video_id).execute())['items'][0][\"statistics\"]:\n",
        "      video_response=youtube.commentThreads().list(part='snippet,replies',videoId=video_id).execute()\n",
        "    else:\n",
        "      return(list_of_comments)\n",
        "    \n",
        "    count = 0\n",
        "\n",
        "    while video_response:\n",
        "\n",
        "\n",
        "        for item in video_response['items']:\n",
        "            \n",
        "            comment = checkparameter(item['snippet']['topLevelComment']['snippet'],'textOriginal')\n",
        "            comment_like_count = checkparameter(item['snippet']['topLevelComment']['snippet'],'likeCount')\n",
        "\n",
        "            replycount = checkparameter(item['snippet'],'totalReplyCount')\n",
        "\n",
        "            replies = []\n",
        "            replies_like_count = []\n",
        "\n",
        "            if replycount>0:\n",
        "\n",
        "                item_replies = checkparameter(item,'replies')\n",
        "\n",
        "                if item_replies==None:\n",
        "                  return\n",
        "\n",
        "                for reply in item_replies['comments']:\n",
        "\n",
        "                    reply_like_count = checkparameter(reply['snippet'],'likeCount')\n",
        "                    reply = checkparameter(reply['snippet'],'textOriginal')\n",
        "                      \n",
        "                    replies.append(reply)\n",
        "                    replies_like_count.append(reply_like_count)\n",
        "  \n",
        "            comment_thread = [comment,comment_like_count,replies,replies_like_count]\n",
        "            list_of_comments.append(comment_thread)\n",
        "\n",
        "            replies = []\n",
        "            replies_like_count = []\n",
        "  \n",
        "        if ('nextPageToken' in video_response):\n",
        "            video_response = youtube.commentThreads().list(part  = 'snippet,replies',videoId = video_id).execute()\n",
        "            count += 1\n",
        "        else:\n",
        "            break\n",
        "    return(list_of_comments)"
      ],
      "metadata": {
        "id": "0Yn38IftbFAv"
      },
      "execution_count": 4,
      "outputs": []
    },
    {
      "cell_type": "code",
      "source": [
        "def makeDataframe(video_ids):\n",
        "\n",
        "    final_df = pd.DataFrame(columns=[\"Video Id\",\"Comment\",\"Likes\",\"Replies\",\"Likes on replies\"])\n",
        "\n",
        "    for video_id in video_ids:\n",
        "        comments_df = pd.DataFrame(get_comment_data(video_id),columns=[\"Comment\",\"Likes\",\"Replies\",\"Likes on replies\"])\n",
        "        comments_df.insert(0,\"Video Id\",video_id)\n",
        "        final_df = pd.concat([final_df,comments_df])\n",
        "\n",
        "    return(final_df)\n"
      ],
      "metadata": {
        "id": "Oq3o3pF3bILv"
      },
      "execution_count": 5,
      "outputs": []
    },
    {
      "cell_type": "code",
      "source": [
        "def queryResult():\n",
        "    keywords = (input(\"Enter keywords:\").split())\n",
        "    search_keyword = '+'.join(keywords)\n",
        "\n",
        "    html = urllib.request.urlopen(\"https://www.youtube.com/results?search_query=\" + search_keyword)\n",
        "    video_ids = re.findall(r\"watch\\?v=(\\S{11})\", html.read().decode())\n",
        "    list_set = set(video_ids)\n",
        "    video_ids = list(list_set)\n",
        "\n",
        "    return(video_ids)"
      ],
      "metadata": {
        "id": "2-kw-OOubK_I"
      },
      "execution_count": 6,
      "outputs": []
    },
    {
      "cell_type": "code",
      "source": [
        "def main():\n",
        "    pd.set_option('display.max_columns', None)\n",
        "    pd.set_option('display.max_rows', None)\n",
        "\n",
        "    video_ids = queryResult()\n",
        "\n",
        "    comments_df = makeDataframe(video_ids)\n",
        "    \n",
        "    comments_df.to_csv(\"out.csv\",encoding ='utf-8')\n",
        "    print(comments_df.head(25))"
      ],
      "metadata": {
        "id": "5t1LvmscbUtW"
      },
      "execution_count": 7,
      "outputs": []
    },
    {
      "cell_type": "code",
      "source": [
        "def checkparameter(dict,key):\n",
        "    if key in dict:\n",
        "        return dict[key]\n",
        "    else:\n",
        "        return None"
      ],
      "metadata": {
        "id": "8fxg6y-h8q9-"
      },
      "execution_count": 8,
      "outputs": []
    },
    {
      "cell_type": "code",
      "source": [
        "if __name__ == \"__main__\":\n",
        "    main()"
      ],
      "metadata": {
        "id": "IKauWS4SeA-s",
        "colab": {
          "base_uri": "https://localhost:8080/"
        },
        "outputId": "42ec01cb-650a-44eb-d9de-7ef753ca76ce"
      },
      "execution_count": null,
      "outputs": [
        {
          "name": "stdout",
          "output_type": "stream",
          "text": [
            "Enter keywords:iiit dharwad\n"
          ]
        }
      ]
    },
    {
      "cell_type": "code",
      "source": [
        "from google.colab import files\n",
        "files.download(\"out.csv\")"
      ],
      "metadata": {
        "colab": {
          "base_uri": "https://localhost:8080/",
          "height": 17
        },
        "id": "QVOcKVR0IVP0",
        "outputId": "89cc2662-d2ea-4a00-f563-b674e84a67f0"
      },
      "execution_count": null,
      "outputs": [
        {
          "output_type": "display_data",
          "data": {
            "text/plain": [
              "<IPython.core.display.Javascript object>"
            ],
            "application/javascript": [
              "\n",
              "    async function download(id, filename, size) {\n",
              "      if (!google.colab.kernel.accessAllowed) {\n",
              "        return;\n",
              "      }\n",
              "      const div = document.createElement('div');\n",
              "      const label = document.createElement('label');\n",
              "      label.textContent = `Downloading \"${filename}\": `;\n",
              "      div.appendChild(label);\n",
              "      const progress = document.createElement('progress');\n",
              "      progress.max = size;\n",
              "      div.appendChild(progress);\n",
              "      document.body.appendChild(div);\n",
              "\n",
              "      const buffers = [];\n",
              "      let downloaded = 0;\n",
              "\n",
              "      const channel = await google.colab.kernel.comms.open(id);\n",
              "      // Send a message to notify the kernel that we're ready.\n",
              "      channel.send({})\n",
              "\n",
              "      for await (const message of channel.messages) {\n",
              "        // Send a message to notify the kernel that we're ready.\n",
              "        channel.send({})\n",
              "        if (message.buffers) {\n",
              "          for (const buffer of message.buffers) {\n",
              "            buffers.push(buffer);\n",
              "            downloaded += buffer.byteLength;\n",
              "            progress.value = downloaded;\n",
              "          }\n",
              "        }\n",
              "      }\n",
              "      const blob = new Blob(buffers, {type: 'application/binary'});\n",
              "      const a = document.createElement('a');\n",
              "      a.href = window.URL.createObjectURL(blob);\n",
              "      a.download = filename;\n",
              "      div.appendChild(a);\n",
              "      a.click();\n",
              "      div.remove();\n",
              "    }\n",
              "  "
            ]
          },
          "metadata": {}
        },
        {
          "output_type": "display_data",
          "data": {
            "text/plain": [
              "<IPython.core.display.Javascript object>"
            ],
            "application/javascript": [
              "download(\"download_099986c9-51da-46bf-af95-a320355f80bc\", \"out.csv\", 1635998)"
            ]
          },
          "metadata": {}
        }
      ]
    },
    {
      "cell_type": "code",
      "source": [
        ""
      ],
      "metadata": {
        "id": "H6CECbEAPVbx"
      },
      "execution_count": null,
      "outputs": []
    }
  ]
}