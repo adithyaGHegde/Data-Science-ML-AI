{
  "metadata": {
    "kernelspec": {
      "language": "python",
      "display_name": "Python 3",
      "name": "python3"
    },
    "language_info": {
      "name": "python",
      "version": "3.7.12",
      "mimetype": "text/x-python",
      "codemirror_mode": {
        "name": "ipython",
        "version": 3
      },
      "pygments_lexer": "ipython3",
      "nbconvert_exporter": "python",
      "file_extension": ".py"
    },
    "colab": {
      "provenance": [],
      "include_colab_link": true
    }
  },
  "nbformat_minor": 0,
  "nbformat": 4,
  "cells": [
    {
      "cell_type": "markdown",
      "metadata": {
        "id": "view-in-github",
        "colab_type": "text"
      },
      "source": [
        "<a href=\"https://colab.research.google.com/github/adithyaGHegde/Data-Science-ML-AI/blob/main/UniversityAdmissionPrediction.ipynb\" target=\"_parent\"><img src=\"https://colab.research.google.com/assets/colab-badge.svg\" alt=\"Open In Colab\"/></a>"
      ]
    },
    {
      "cell_type": "code",
      "source": [
        "# This Python 3 environment comes with many helpful analytics libraries installed\n",
        "# It is defined by the kaggle/python Docker image: https://github.com/kaggle/docker-python\n",
        "# For example, here's several helpful packages to load\n",
        "\n",
        "import numpy as np # linear algebra\n",
        "import pandas as pd # data processing, CSV file I/O (e.g. pd.read_csv)\n",
        "\n",
        "# Input data files are available in the read-only \"../input/\" directory\n",
        "# For example, running this (by clicking run or pressing Shift+Enter) will list all files under the input directory\n",
        "\n",
        "import os\n",
        "for dirname, _, filenames in os.walk('/kaggle/input'):\n",
        "    for filename in filenames:\n",
        "        print(os.path.join(dirname, filename))\n",
        "\n",
        "# You can write up to 20GB to the current directory (/kaggle/working/) that gets preserved as output when you create a version using \"Save & Run All\"\n",
        "# You can also write temporary files to /kaggle/temp/, but they won't be saved outside of the current session"
      ],
      "metadata": {
        "_uuid": "8f2839f25d086af736a60e9eeb907d3b93b6e0e5",
        "_cell_guid": "b1076dfc-b9ad-4769-8c92-a6c4dae69d19",
        "execution": {
          "iopub.status.busy": "2022-07-02T18:11:54.069122Z",
          "iopub.execute_input": "2022-07-02T18:11:54.069938Z",
          "iopub.status.idle": "2022-07-02T18:11:54.085201Z",
          "shell.execute_reply.started": "2022-07-02T18:11:54.069889Z",
          "shell.execute_reply": "2022-07-02T18:11:54.083719Z"
        },
        "trusted": true,
        "id": "-AnoazZvCi8f"
      },
      "execution_count": null,
      "outputs": []
    },
    {
      "cell_type": "code",
      "source": [
        "import numpy as np\n",
        "import matplotlib.pyplot as plt\n",
        "import pandas as pd\n",
        "import seaborn as sns\n",
        "\n",
        "from collections import defaultdict\n",
        "from sklearn.model_selection import train_test_split\n",
        "from lightgbm import LGBMClassifier\n",
        "from xgboost import XGBClassifier\n",
        "from sklearn import neighbors, svm,metrics, preprocessing\n",
        "from sklearn.ensemble import RandomForestClassifier\n",
        "\n",
        "import warnings\n",
        "warnings.simplefilter(action='ignore', category=FutureWarning)"
      ],
      "metadata": {
        "execution": {
          "iopub.status.busy": "2022-07-02T18:11:56.353173Z",
          "iopub.execute_input": "2022-07-02T18:11:56.353907Z",
          "iopub.status.idle": "2022-07-02T18:11:56.362896Z",
          "shell.execute_reply.started": "2022-07-02T18:11:56.353854Z",
          "shell.execute_reply": "2022-07-02T18:11:56.361521Z"
        },
        "trusted": true,
        "id": "r3pr9o0JCi8q"
      },
      "execution_count": null,
      "outputs": []
    },
    {
      "cell_type": "code",
      "source": [
        "train = pd.read_csv('../input/velohackdsaisoc/train.csv')\n",
        "labels = pd.read_csv('../input/velohackdsaisoc/labels.csv') # use these labels to label encode the university column. You can also use labelencoder from sklearn\n",
        "test = pd.read_csv('../input/velohackdsaisoc/test.csv')\n",
        "uids = test['uid'] # use this to first store uids. After doing this you can drop the uids column from the test dataset and perform predictions on it."
      ],
      "metadata": {
        "execution": {
          "iopub.status.busy": "2022-07-02T18:11:58.253053Z",
          "iopub.execute_input": "2022-07-02T18:11:58.254164Z",
          "iopub.status.idle": "2022-07-02T18:11:58.461986Z",
          "shell.execute_reply.started": "2022-07-02T18:11:58.254118Z",
          "shell.execute_reply": "2022-07-02T18:11:58.460884Z"
        },
        "trusted": true,
        "id": "dvYcmJqLCi8s"
      },
      "execution_count": null,
      "outputs": []
    },
    {
      "cell_type": "code",
      "source": [
        "train.info()"
      ],
      "metadata": {
        "execution": {
          "iopub.status.busy": "2022-07-02T16:06:49.191528Z",
          "iopub.execute_input": "2022-07-02T16:06:49.19223Z",
          "iopub.status.idle": "2022-07-02T16:06:49.246621Z",
          "shell.execute_reply.started": "2022-07-02T16:06:49.192189Z",
          "shell.execute_reply": "2022-07-02T16:06:49.245281Z"
        },
        "trusted": true,
        "id": "Lw0ZmVTiCi8u"
      },
      "execution_count": null,
      "outputs": []
    },
    {
      "cell_type": "code",
      "source": [
        "train.head()"
      ],
      "metadata": {
        "execution": {
          "iopub.status.busy": "2022-07-02T13:20:07.061388Z",
          "iopub.execute_input": "2022-07-02T13:20:07.062018Z",
          "iopub.status.idle": "2022-07-02T13:20:07.085747Z",
          "shell.execute_reply.started": "2022-07-02T13:20:07.061981Z",
          "shell.execute_reply": "2022-07-02T13:20:07.084272Z"
        },
        "trusted": true,
        "id": "1OlgjfCKCi8v"
      },
      "execution_count": null,
      "outputs": []
    },
    {
      "cell_type": "code",
      "source": [
        "train.isnull().sum()"
      ],
      "metadata": {
        "execution": {
          "iopub.status.busy": "2022-07-02T13:20:07.089021Z",
          "iopub.execute_input": "2022-07-02T13:20:07.090107Z",
          "iopub.status.idle": "2022-07-02T13:20:07.130325Z",
          "shell.execute_reply.started": "2022-07-02T13:20:07.090056Z",
          "shell.execute_reply": "2022-07-02T13:20:07.128995Z"
        },
        "trusted": true,
        "id": "tBBZTl0OCi8x"
      },
      "execution_count": null,
      "outputs": []
    },
    {
      "cell_type": "code",
      "source": [
        "test.duplicated().sum()"
      ],
      "metadata": {
        "execution": {
          "iopub.status.busy": "2022-07-02T18:12:04.1432Z",
          "iopub.execute_input": "2022-07-02T18:12:04.143589Z",
          "iopub.status.idle": "2022-07-02T18:12:04.166183Z",
          "shell.execute_reply.started": "2022-07-02T18:12:04.143558Z",
          "shell.execute_reply": "2022-07-02T18:12:04.165168Z"
        },
        "trusted": true,
        "id": "n91uCu6yCi8y"
      },
      "execution_count": null,
      "outputs": []
    },
    {
      "cell_type": "code",
      "source": [
        "for col in test.columns:\n",
        "    print(f\"No. of unique entries in {col} column: {test[col].nunique()}\")"
      ],
      "metadata": {
        "execution": {
          "iopub.status.busy": "2022-07-02T18:12:07.833437Z",
          "iopub.execute_input": "2022-07-02T18:12:07.833913Z",
          "iopub.status.idle": "2022-07-02T18:12:07.860686Z",
          "shell.execute_reply.started": "2022-07-02T18:12:07.833875Z",
          "shell.execute_reply": "2022-07-02T18:12:07.859727Z"
        },
        "trusted": true,
        "id": "GUZnzrrpCi81"
      },
      "execution_count": null,
      "outputs": []
    },
    {
      "cell_type": "code",
      "source": [
        "test_cpy = test.copy()\n",
        "test_cpy.drop('greA',axis=1,inplace =True)"
      ],
      "metadata": {
        "execution": {
          "iopub.status.busy": "2022-07-02T18:12:20.028821Z",
          "iopub.execute_input": "2022-07-02T18:12:20.029776Z",
          "iopub.status.idle": "2022-07-02T18:12:20.03813Z",
          "shell.execute_reply.started": "2022-07-02T18:12:20.029733Z",
          "shell.execute_reply": "2022-07-02T18:12:20.036725Z"
        },
        "trusted": true,
        "id": "fqCHXfqiCi83"
      },
      "execution_count": null,
      "outputs": []
    },
    {
      "cell_type": "code",
      "source": [
        "# test.drop(['userName','uid'],axis=1,inplace = True)\n",
        "# test.program = test.program.astype(\"category\").cat.codes\n",
        "# test.ugCollege = test.ugCollege.astype(\"category\").cat.codes\n",
        "# test.termAndYear = test.termAndYear.astype(\"category\").cat.codes\n",
        "# test.department = test.department.astype(\"category\").cat.codes\n",
        "# test.major = test.major.astype(\"category\").cat.codes\n",
        "\n",
        "# test.head()"
      ],
      "metadata": {
        "execution": {
          "iopub.status.busy": "2022-07-02T13:38:21.985709Z",
          "iopub.execute_input": "2022-07-02T13:38:21.986111Z",
          "iopub.status.idle": "2022-07-02T13:38:22.016561Z",
          "shell.execute_reply.started": "2022-07-02T13:38:21.986078Z",
          "shell.execute_reply": "2022-07-02T13:38:22.015756Z"
        },
        "trusted": true,
        "id": "OkxM_VIcCi86"
      },
      "execution_count": null,
      "outputs": []
    },
    {
      "cell_type": "code",
      "source": [
        "test.univName = test.univName.astype(str)"
      ],
      "metadata": {
        "execution": {
          "iopub.status.busy": "2022-07-02T18:12:24.103046Z",
          "iopub.execute_input": "2022-07-02T18:12:24.10383Z",
          "iopub.status.idle": "2022-07-02T18:12:24.120427Z",
          "shell.execute_reply.started": "2022-07-02T18:12:24.10378Z",
          "shell.execute_reply": "2022-07-02T18:12:24.11918Z"
        },
        "trusted": true,
        "id": "uehuzShxCi88"
      },
      "execution_count": null,
      "outputs": []
    },
    {
      "cell_type": "markdown",
      "source": [
        "TargetEncoder requires the column to have string values to encode it based on the target column, so i made univName into string type instead of replacing it with labels."
      ],
      "metadata": {
        "id": "RBmBbrA_Ci89"
      }
    },
    {
      "cell_type": "code",
      "source": [
        "ugCollege_encoding = train.groupby(['ugCollege'])['admit'].mean().to_dict()\n",
        "major_encoding = train.groupby(['major'])['admit'].mean().to_dict()\n",
        "univName_encoding = train.groupby(['univName'])['admit'].mean().to_dict()\n",
        "department_encoding = train.groupby(['department'])['admit'].mean().to_dict()\n",
        "termAndYear_encoding = train.groupby(['termAndYear'])['admit'].mean().to_dict()\n",
        "\n",
        "# train_new['ugCollegeEncoded'] = train['ugCollege'].map(ugCollege_encoding)\n",
        "# train_new['majorEncoded'] = train['major'].map(species_encoding)\n",
        "# train_new['univNameEncoded'] = train['univName'].map(species_encoding)\n",
        "# train_newtrain_new['departmentEncoded'] = train['department'].map(species_encoding)\n",
        "# train_new['termAndYearEncoded'] = train['termAndYear'].map(species_encoding)\n",
        "\n",
        "\n",
        "test['ugCollege'] = train['ugCollege'].map(ugCollege_encoding)\n",
        "test['major'] = train['major'].map(major_encoding)\n",
        "test['univName'] = train['univName'].map(univName_encoding)\n",
        "test['department'] = train['department'].map(department_encoding)\n",
        "test['termAndYear'] = train['termAndYear'].map(termAndYear_encoding)"
      ],
      "metadata": {
        "execution": {
          "iopub.status.busy": "2022-07-02T18:40:39.387774Z",
          "iopub.execute_input": "2022-07-02T18:40:39.388173Z",
          "iopub.status.idle": "2022-07-02T18:40:39.457478Z",
          "shell.execute_reply.started": "2022-07-02T18:40:39.388140Z",
          "shell.execute_reply": "2022-07-02T18:40:39.456213Z"
        },
        "trusted": true,
        "id": "Aly9b9GKCi9C"
      },
      "execution_count": null,
      "outputs": []
    },
    {
      "cell_type": "code",
      "source": [
        "from category_encoders import TargetEncoder\n",
        "encoder = TargetEncoder()\n",
        "test['ugCollege'] = encoder.fit_transform(test['ugCollege'], test['admit'])\n",
        "test['major'] = encoder.fit_transform(test['major'], test['admit'])\n",
        "test['univName'] = encoder.fit_transform(test['univName'], test['admit'])\n",
        "test['department'] = encoder.fit_transform(test['department'], test['admit'])\n",
        "test['termAndYear'] = encoder.fit_transform(test['termAndYear'], test['admit'])\n"
      ],
      "metadata": {
        "execution": {
          "iopub.status.busy": "2022-07-02T18:12:26.008559Z",
          "iopub.execute_input": "2022-07-02T18:12:26.010507Z",
          "iopub.status.idle": "2022-07-02T18:12:26.109841Z",
          "shell.execute_reply.started": "2022-07-02T18:12:26.01045Z",
          "shell.execute_reply": "2022-07-02T18:12:26.108165Z"
        },
        "trusted": true,
        "id": "G7j_XB4aCi9F"
      },
      "execution_count": null,
      "outputs": []
    },
    {
      "cell_type": "markdown",
      "source": [
        "TargetEncoded all the categorical columns."
      ],
      "metadata": {
        "id": "iDBHfLSOCi9H"
      }
    },
    {
      "cell_type": "code",
      "source": [
        "test.head()"
      ],
      "metadata": {
        "execution": {
          "iopub.status.busy": "2022-07-02T18:40:48.727972Z",
          "iopub.execute_input": "2022-07-02T18:40:48.728818Z",
          "iopub.status.idle": "2022-07-02T18:40:48.750810Z",
          "shell.execute_reply.started": "2022-07-02T18:40:48.728773Z",
          "shell.execute_reply": "2022-07-02T18:40:48.749943Z"
        },
        "trusted": true,
        "id": "7hb59dwECi9I",
        "outputId": "7c5bdc73-f032-433c-e5cf-ac94aacc0a9b"
      },
      "execution_count": null,
      "outputs": [
        {
          "execution_count": 116,
          "output_type": "execute_result",
          "data": {
            "text/plain": "           userName     major  researchExp  industryExp  toeflScore program  \\\n0         blaze1990  0.490697            0            0       111.0      MS   \n1          raghu449  0.498195            0            0       105.0      MS   \n2         varun1044  0.608409            0            0       101.0      MS   \n3  nileshshinde9999  0.452137            0            0        91.0      MS   \n4        subhajit22  0.490697            0            0       105.0     PhD   \n\n   department  internExp  greV  greQ  journalPubs  greA  termAndYear  \\\n0    0.596386        0.0   157   165            0   3.0     0.514531   \n1    0.490394        0.0   164   159            0   2.5     0.508613   \n2    0.490394        0.0    35    50            0   5.0     0.508613   \n3    0.501425        0.0   154   164            0   3.0     0.514531   \n4    0.478261        0.0   155   163            0   3.5     0.516779   \n\n   confPubs  ugCollege    cgpa  univName  \\\n0         0   0.882353  0.7560  0.471349   \n1         0   0.453901  0.6325  0.143050   \n2         0   0.530831  0.7300  0.430079   \n3         0   0.666667  0.6100  0.739035   \n4         0   0.469274  0.8120  0.329897   \n\n                                                 uid  \n0                     blaze1990University of Florida  \n1                         raghu449Cornell University  \n2  varun1044Texas A and M University College Station  \n3     nileshshinde9999University of Colorado Boulder  \n4                      subhajit22Columbia University  ",
            "text/html": "<div>\n<style scoped>\n    .dataframe tbody tr th:only-of-type {\n        vertical-align: middle;\n    }\n\n    .dataframe tbody tr th {\n        vertical-align: top;\n    }\n\n    .dataframe thead th {\n        text-align: right;\n    }\n</style>\n<table border=\"1\" class=\"dataframe\">\n  <thead>\n    <tr style=\"text-align: right;\">\n      <th></th>\n      <th>userName</th>\n      <th>major</th>\n      <th>researchExp</th>\n      <th>industryExp</th>\n      <th>toeflScore</th>\n      <th>program</th>\n      <th>department</th>\n      <th>internExp</th>\n      <th>greV</th>\n      <th>greQ</th>\n      <th>journalPubs</th>\n      <th>greA</th>\n      <th>termAndYear</th>\n      <th>confPubs</th>\n      <th>ugCollege</th>\n      <th>cgpa</th>\n      <th>univName</th>\n      <th>uid</th>\n    </tr>\n  </thead>\n  <tbody>\n    <tr>\n      <th>0</th>\n      <td>blaze1990</td>\n      <td>0.490697</td>\n      <td>0</td>\n      <td>0</td>\n      <td>111.0</td>\n      <td>MS</td>\n      <td>0.596386</td>\n      <td>0.0</td>\n      <td>157</td>\n      <td>165</td>\n      <td>0</td>\n      <td>3.0</td>\n      <td>0.514531</td>\n      <td>0</td>\n      <td>0.882353</td>\n      <td>0.7560</td>\n      <td>0.471349</td>\n      <td>blaze1990University of Florida</td>\n    </tr>\n    <tr>\n      <th>1</th>\n      <td>raghu449</td>\n      <td>0.498195</td>\n      <td>0</td>\n      <td>0</td>\n      <td>105.0</td>\n      <td>MS</td>\n      <td>0.490394</td>\n      <td>0.0</td>\n      <td>164</td>\n      <td>159</td>\n      <td>0</td>\n      <td>2.5</td>\n      <td>0.508613</td>\n      <td>0</td>\n      <td>0.453901</td>\n      <td>0.6325</td>\n      <td>0.143050</td>\n      <td>raghu449Cornell University</td>\n    </tr>\n    <tr>\n      <th>2</th>\n      <td>varun1044</td>\n      <td>0.608409</td>\n      <td>0</td>\n      <td>0</td>\n      <td>101.0</td>\n      <td>MS</td>\n      <td>0.490394</td>\n      <td>0.0</td>\n      <td>35</td>\n      <td>50</td>\n      <td>0</td>\n      <td>5.0</td>\n      <td>0.508613</td>\n      <td>0</td>\n      <td>0.530831</td>\n      <td>0.7300</td>\n      <td>0.430079</td>\n      <td>varun1044Texas A and M University College Station</td>\n    </tr>\n    <tr>\n      <th>3</th>\n      <td>nileshshinde9999</td>\n      <td>0.452137</td>\n      <td>0</td>\n      <td>0</td>\n      <td>91.0</td>\n      <td>MS</td>\n      <td>0.501425</td>\n      <td>0.0</td>\n      <td>154</td>\n      <td>164</td>\n      <td>0</td>\n      <td>3.0</td>\n      <td>0.514531</td>\n      <td>0</td>\n      <td>0.666667</td>\n      <td>0.6100</td>\n      <td>0.739035</td>\n      <td>nileshshinde9999University of Colorado Boulder</td>\n    </tr>\n    <tr>\n      <th>4</th>\n      <td>subhajit22</td>\n      <td>0.490697</td>\n      <td>0</td>\n      <td>0</td>\n      <td>105.0</td>\n      <td>PhD</td>\n      <td>0.478261</td>\n      <td>0.0</td>\n      <td>155</td>\n      <td>163</td>\n      <td>0</td>\n      <td>3.5</td>\n      <td>0.516779</td>\n      <td>0</td>\n      <td>0.469274</td>\n      <td>0.8120</td>\n      <td>0.329897</td>\n      <td>subhajit22Columbia University</td>\n    </tr>\n  </tbody>\n</table>\n</div>"
          },
          "metadata": {}
        }
      ]
    },
    {
      "cell_type": "code",
      "source": [
        "test.drop(['userName','uid','greA'],inplace=True,axis=1)"
      ],
      "metadata": {
        "execution": {
          "iopub.status.busy": "2022-07-02T18:40:53.668325Z",
          "iopub.execute_input": "2022-07-02T18:40:53.668764Z",
          "iopub.status.idle": "2022-07-02T18:40:53.677116Z",
          "shell.execute_reply.started": "2022-07-02T18:40:53.668728Z",
          "shell.execute_reply": "2022-07-02T18:40:53.676076Z"
        },
        "trusted": true,
        "id": "ryQQf_LFCi9L"
      },
      "execution_count": null,
      "outputs": []
    },
    {
      "cell_type": "markdown",
      "source": [
        "Dropped the columns that are not needed"
      ],
      "metadata": {
        "id": "oWou40vDCi9M"
      }
    },
    {
      "cell_type": "code",
      "source": [
        "test.columns"
      ],
      "metadata": {
        "execution": {
          "iopub.status.busy": "2022-07-02T18:40:57.007415Z",
          "iopub.execute_input": "2022-07-02T18:40:57.007837Z",
          "iopub.status.idle": "2022-07-02T18:40:57.015939Z",
          "shell.execute_reply.started": "2022-07-02T18:40:57.007800Z",
          "shell.execute_reply": "2022-07-02T18:40:57.014726Z"
        },
        "trusted": true,
        "id": "oZnYR2RqCi9N",
        "outputId": "5bf9a054-b1df-4021-851f-a0cb53c8afcb"
      },
      "execution_count": null,
      "outputs": [
        {
          "execution_count": 118,
          "output_type": "execute_result",
          "data": {
            "text/plain": "Index(['major', 'researchExp', 'industryExp', 'toeflScore', 'program',\n       'department', 'internExp', 'greV', 'greQ', 'journalPubs', 'termAndYear',\n       'confPubs', 'ugCollege', 'cgpa', 'univName'],\n      dtype='object')"
          },
          "metadata": {}
        }
      ]
    },
    {
      "cell_type": "code",
      "source": [
        "cat_cols = ['major','program','department','termAndYear','ugCollege','univName']\n",
        "num_cols = ['researchExp','industryExp','toeflScore','internExp','greV','greQ','journalPubs','confPubs','cgpa']"
      ],
      "metadata": {
        "execution": {
          "iopub.status.busy": "2022-07-02T17:26:44.773312Z",
          "iopub.execute_input": "2022-07-02T17:26:44.773708Z",
          "iopub.status.idle": "2022-07-02T17:26:44.77963Z",
          "shell.execute_reply.started": "2022-07-02T17:26:44.773674Z",
          "shell.execute_reply": "2022-07-02T17:26:44.778489Z"
        },
        "trusted": true,
        "id": "O3PIRFfeCi9O"
      },
      "execution_count": null,
      "outputs": []
    },
    {
      "cell_type": "code",
      "source": [
        "from sklearn.preprocessing import MinMaxScaler, OneHotEncoder, OrdinalEncoder, LabelEncoder\n",
        "from sklearn.compose import ColumnTransformer\n",
        "from sklearn.decomposition import PCA\n",
        "pca = PCA(n_components=2)\n",
        "preprocessor1 = ColumnTransformer(\n",
        "    transformers = [\n",
        "        ('onehotcat', OneHotEncoder(), ['program']),\n",
        "        ('num', MinMaxScaler(), ['toeflScore','greV','greQ','cgpa']),\n",
        "    ],\n",
        "    remainder = 'passthrough',\n",
        ")\n",
        "preprocessor2 = ColumnTransformer(\n",
        "    transformers = [\n",
        "#         ('pca', pca, num_cols),\n",
        "        ('dropper', 'drop', ['prog_4'])\n",
        "    ],\n",
        "    remainder = 'passthrough',\n",
        ")"
      ],
      "metadata": {
        "execution": {
          "iopub.status.busy": "2022-07-02T18:41:07.147340Z",
          "iopub.execute_input": "2022-07-02T18:41:07.147737Z",
          "iopub.status.idle": "2022-07-02T18:41:07.156462Z",
          "shell.execute_reply.started": "2022-07-02T18:41:07.147704Z",
          "shell.execute_reply": "2022-07-02T18:41:07.155339Z"
        },
        "trusted": true,
        "id": "j6OUCX-pCi9Q"
      },
      "execution_count": null,
      "outputs": []
    },
    {
      "cell_type": "markdown",
      "source": [
        "I didn't run PCA, that could be tried too"
      ],
      "metadata": {
        "id": "A1GGt9WWCi9R"
      }
    },
    {
      "cell_type": "code",
      "source": [
        "preprocessor1_features = ['prog_1','prog_2','prog_3','prog_4','toeflScore','greV','greQ','cgpa','major', 'researchExp', 'industryExp','department', 'internExp','journalPubs','termAndYear', 'confPubs', 'ugCollege', 'univName']\n",
        "preprocessor2_features = ['prog_1','prog_2','prog_3','toeflScore','greV','greQ','cgpa','major', 'researchExp', 'industryExp','department', 'internExp','journalPubs','termAndYear', 'confPubs', 'ugCollege', 'univName']"
      ],
      "metadata": {
        "execution": {
          "iopub.status.busy": "2022-07-02T18:41:09.832444Z",
          "iopub.execute_input": "2022-07-02T18:41:09.833026Z",
          "iopub.status.idle": "2022-07-02T18:41:09.838984Z",
          "shell.execute_reply.started": "2022-07-02T18:41:09.832985Z",
          "shell.execute_reply": "2022-07-02T18:41:09.838036Z"
        },
        "trusted": true,
        "id": "3v0dDsVlCi9S"
      },
      "execution_count": null,
      "outputs": []
    },
    {
      "cell_type": "code",
      "source": [
        "X = test.iloc[:,:]\n",
        "# y = test['admit']\n",
        "X.head()"
      ],
      "metadata": {
        "execution": {
          "iopub.status.busy": "2022-07-02T18:42:09.553204Z",
          "iopub.execute_input": "2022-07-02T18:42:09.553705Z",
          "iopub.status.idle": "2022-07-02T18:42:09.574682Z",
          "shell.execute_reply.started": "2022-07-02T18:42:09.553655Z",
          "shell.execute_reply": "2022-07-02T18:42:09.573627Z"
        },
        "trusted": true,
        "id": "w63-pF4HCi9T",
        "outputId": "f98d85fd-6123-475c-9113-9e472e77de45"
      },
      "execution_count": null,
      "outputs": [
        {
          "execution_count": 124,
          "output_type": "execute_result",
          "data": {
            "text/plain": "      major  researchExp  industryExp  toeflScore program  department  \\\n0  0.490697            0            0       111.0      MS    0.596386   \n1  0.498195            0            0       105.0      MS    0.490394   \n2  0.608409            0            0       101.0      MS    0.490394   \n3  0.452137            0            0        91.0      MS    0.501425   \n4  0.490697            0            0       105.0     PhD    0.478261   \n\n   internExp  greV  greQ  journalPubs  termAndYear  confPubs  ugCollege  \\\n0        0.0   157   165            0     0.514531         0   0.882353   \n1        0.0   164   159            0     0.508613         0   0.453901   \n2        0.0    35    50            0     0.508613         0   0.530831   \n3        0.0   154   164            0     0.514531         0   0.666667   \n4        0.0   155   163            0     0.516779         0   0.469274   \n\n     cgpa  univName  \n0  0.7560  0.471349  \n1  0.6325  0.143050  \n2  0.7300  0.430079  \n3  0.6100  0.739035  \n4  0.8120  0.329897  ",
            "text/html": "<div>\n<style scoped>\n    .dataframe tbody tr th:only-of-type {\n        vertical-align: middle;\n    }\n\n    .dataframe tbody tr th {\n        vertical-align: top;\n    }\n\n    .dataframe thead th {\n        text-align: right;\n    }\n</style>\n<table border=\"1\" class=\"dataframe\">\n  <thead>\n    <tr style=\"text-align: right;\">\n      <th></th>\n      <th>major</th>\n      <th>researchExp</th>\n      <th>industryExp</th>\n      <th>toeflScore</th>\n      <th>program</th>\n      <th>department</th>\n      <th>internExp</th>\n      <th>greV</th>\n      <th>greQ</th>\n      <th>journalPubs</th>\n      <th>termAndYear</th>\n      <th>confPubs</th>\n      <th>ugCollege</th>\n      <th>cgpa</th>\n      <th>univName</th>\n    </tr>\n  </thead>\n  <tbody>\n    <tr>\n      <th>0</th>\n      <td>0.490697</td>\n      <td>0</td>\n      <td>0</td>\n      <td>111.0</td>\n      <td>MS</td>\n      <td>0.596386</td>\n      <td>0.0</td>\n      <td>157</td>\n      <td>165</td>\n      <td>0</td>\n      <td>0.514531</td>\n      <td>0</td>\n      <td>0.882353</td>\n      <td>0.7560</td>\n      <td>0.471349</td>\n    </tr>\n    <tr>\n      <th>1</th>\n      <td>0.498195</td>\n      <td>0</td>\n      <td>0</td>\n      <td>105.0</td>\n      <td>MS</td>\n      <td>0.490394</td>\n      <td>0.0</td>\n      <td>164</td>\n      <td>159</td>\n      <td>0</td>\n      <td>0.508613</td>\n      <td>0</td>\n      <td>0.453901</td>\n      <td>0.6325</td>\n      <td>0.143050</td>\n    </tr>\n    <tr>\n      <th>2</th>\n      <td>0.608409</td>\n      <td>0</td>\n      <td>0</td>\n      <td>101.0</td>\n      <td>MS</td>\n      <td>0.490394</td>\n      <td>0.0</td>\n      <td>35</td>\n      <td>50</td>\n      <td>0</td>\n      <td>0.508613</td>\n      <td>0</td>\n      <td>0.530831</td>\n      <td>0.7300</td>\n      <td>0.430079</td>\n    </tr>\n    <tr>\n      <th>3</th>\n      <td>0.452137</td>\n      <td>0</td>\n      <td>0</td>\n      <td>91.0</td>\n      <td>MS</td>\n      <td>0.501425</td>\n      <td>0.0</td>\n      <td>154</td>\n      <td>164</td>\n      <td>0</td>\n      <td>0.514531</td>\n      <td>0</td>\n      <td>0.666667</td>\n      <td>0.6100</td>\n      <td>0.739035</td>\n    </tr>\n    <tr>\n      <th>4</th>\n      <td>0.490697</td>\n      <td>0</td>\n      <td>0</td>\n      <td>105.0</td>\n      <td>PhD</td>\n      <td>0.478261</td>\n      <td>0.0</td>\n      <td>155</td>\n      <td>163</td>\n      <td>0</td>\n      <td>0.516779</td>\n      <td>0</td>\n      <td>0.469274</td>\n      <td>0.8120</td>\n      <td>0.329897</td>\n    </tr>\n  </tbody>\n</table>\n</div>"
          },
          "metadata": {}
        }
      ]
    },
    {
      "cell_type": "code",
      "source": [
        "X = pd.DataFrame(preprocessor1.fit_transform(X), columns=preprocessor1_features)\n",
        "X = pd.DataFrame(preprocessor2.fit_transform(X), columns=preprocessor2_features)"
      ],
      "metadata": {
        "execution": {
          "iopub.status.busy": "2022-07-02T18:42:13.137349Z",
          "iopub.execute_input": "2022-07-02T18:42:13.137758Z",
          "iopub.status.idle": "2022-07-02T18:42:13.161090Z",
          "shell.execute_reply.started": "2022-07-02T18:42:13.137723Z",
          "shell.execute_reply": "2022-07-02T18:42:13.160029Z"
        },
        "trusted": true,
        "id": "Rs88_MDCCi9U"
      },
      "execution_count": null,
      "outputs": []
    },
    {
      "cell_type": "code",
      "source": [
        "X.head(20)"
      ],
      "metadata": {
        "execution": {
          "iopub.status.busy": "2022-07-02T18:42:16.102432Z",
          "iopub.execute_input": "2022-07-02T18:42:16.102869Z",
          "iopub.status.idle": "2022-07-02T18:42:16.147089Z",
          "shell.execute_reply.started": "2022-07-02T18:42:16.102832Z",
          "shell.execute_reply": "2022-07-02T18:42:16.145694Z"
        },
        "trusted": true,
        "id": "bO45pQaPCi9V",
        "outputId": "d6ecc776-806b-4786-970d-7cba6325cdde"
      },
      "execution_count": null,
      "outputs": [
        {
          "execution_count": 126,
          "output_type": "execute_result",
          "data": {
            "text/plain": "    prog_1  prog_2  prog_3  toeflScore      greV      greQ      cgpa  \\\n0      0.0     1.0     0.0    0.091736  0.923529  0.962406  0.051932   \n1      0.0     1.0     0.0    0.086777  0.964706  0.917293  0.043448   \n2      0.0     1.0     0.0    0.083471  0.205882  0.097744  0.050146   \n3      0.0     1.0     0.0    0.075207  0.905882  0.954887  0.041903   \n4      0.0     0.0     0.0    0.086777  0.911765  0.947368  0.055779   \n5      0.0     1.0     0.0    0.086777  0.952941  0.887218  0.051520   \n6      0.0     1.0     0.0    0.091736  0.964706  0.969925  0.054954   \n7      0.0     1.0     0.0    0.090083  0.923529  0.939850  0.056534   \n8      0.0     1.0     0.0    0.085950  0.876471  0.954887  0.058458   \n9      0.0     1.0     0.0    0.088430  0.917647  0.924812  0.058046   \n10     0.0     1.0     0.0    0.090909  0.941176  0.969925  0.047398   \n11     0.0     1.0     0.0    0.066942  0.847059  0.939850  0.035720   \n12     0.0     1.0     0.0    0.086777  0.917647  0.932331  0.051520   \n13     0.0     1.0     0.0    0.085124  0.888235  0.984962  0.006031   \n14     0.0     1.0     0.0    0.087603  0.929412  0.969925  0.057702   \n15     0.0     1.0     0.0    0.090909  0.917647  0.939850  0.044472   \n16     0.0     1.0     0.0    0.092562  0.900000  0.954887  0.059900   \n17     0.0     1.0     0.0    0.080992  0.894118  0.947368  0.060313   \n18     0.0     1.0     0.0    0.076860  0.876471  0.969925  0.053855   \n19     0.0     1.0     0.0    0.084298  0.935294  0.969925  0.061961   \n\n       major  researchExp  industryExp  department  internExp  journalPubs  \\\n0   0.490697          0.0          0.0    0.596386        0.0          0.0   \n1   0.498195          0.0          0.0    0.490394        0.0          0.0   \n2   0.608409          0.0          0.0    0.490394        0.0          0.0   \n3   0.452137          0.0          0.0    0.501425        0.0          0.0   \n4   0.490697          0.0          0.0    0.478261        0.0          0.0   \n5   0.490697          0.0          0.0    0.527357        0.0          0.0   \n6   0.452137          0.0          0.0    0.483974        0.0          0.0   \n7   0.400810          0.0          0.0    0.525361        0.0          0.0   \n8   0.452137          0.0          0.0    1.000000        0.0          0.0   \n9   0.749659          0.0          0.0    0.576923        0.0          0.0   \n10  0.452137          9.0          4.0    0.477217        2.0          0.0   \n11  0.785714          0.0          0.0    0.585014        0.0          0.0   \n12  0.452137          0.0          0.0    0.501425        0.0          0.0   \n13  0.318182          0.0          0.0    0.501425        0.0          0.0   \n14  0.749659          0.0          0.0    0.477217        0.0          0.0   \n15  0.457574          0.0         42.0    0.473810        3.0          0.0   \n16  0.452137          0.0          0.0    0.615873        1.0          0.0   \n17  0.457574          0.0         26.0    1.000000        6.0          0.0   \n18  0.457574          0.0         24.0    0.462168        7.0          2.0   \n19  0.608409          0.0          0.0    0.615873        0.0          0.0   \n\n    termAndYear  confPubs  ugCollege  univName  \n0      0.514531       0.0   0.882353  0.471349  \n1      0.508613       0.0   0.453901  0.143050  \n2      0.508613       0.0   0.530831  0.430079  \n3      0.514531       0.0   0.666667  0.739035  \n4      0.516779       0.0   0.469274  0.329897  \n5      0.472155       0.0   0.600000  0.143050  \n6      0.514531       0.0   0.750000  0.471349  \n7      0.514531       0.0   0.527850  0.386667  \n8      0.508613       0.0   0.750000  0.333333  \n9      0.516779       0.0   0.537580  0.342895  \n10     0.508613       0.0   0.492228  0.471349  \n11     0.508613       0.0   0.625000  0.271858  \n12     0.475342       0.0   0.363636  0.701845  \n13     0.472155       0.0   0.531646  0.703457  \n14     0.508613       0.0   0.520408  0.342895  \n15     0.472155       0.0   0.497110  0.513011  \n16     0.508613       3.0   0.484423  0.701845  \n17     0.605159       0.0   0.512821  0.410319  \n18     0.514531       0.0   0.506623  0.739035  \n19     0.508613       0.0   0.545817  0.244444  ",
            "text/html": "<div>\n<style scoped>\n    .dataframe tbody tr th:only-of-type {\n        vertical-align: middle;\n    }\n\n    .dataframe tbody tr th {\n        vertical-align: top;\n    }\n\n    .dataframe thead th {\n        text-align: right;\n    }\n</style>\n<table border=\"1\" class=\"dataframe\">\n  <thead>\n    <tr style=\"text-align: right;\">\n      <th></th>\n      <th>prog_1</th>\n      <th>prog_2</th>\n      <th>prog_3</th>\n      <th>toeflScore</th>\n      <th>greV</th>\n      <th>greQ</th>\n      <th>cgpa</th>\n      <th>major</th>\n      <th>researchExp</th>\n      <th>industryExp</th>\n      <th>department</th>\n      <th>internExp</th>\n      <th>journalPubs</th>\n      <th>termAndYear</th>\n      <th>confPubs</th>\n      <th>ugCollege</th>\n      <th>univName</th>\n    </tr>\n  </thead>\n  <tbody>\n    <tr>\n      <th>0</th>\n      <td>0.0</td>\n      <td>1.0</td>\n      <td>0.0</td>\n      <td>0.091736</td>\n      <td>0.923529</td>\n      <td>0.962406</td>\n      <td>0.051932</td>\n      <td>0.490697</td>\n      <td>0.0</td>\n      <td>0.0</td>\n      <td>0.596386</td>\n      <td>0.0</td>\n      <td>0.0</td>\n      <td>0.514531</td>\n      <td>0.0</td>\n      <td>0.882353</td>\n      <td>0.471349</td>\n    </tr>\n    <tr>\n      <th>1</th>\n      <td>0.0</td>\n      <td>1.0</td>\n      <td>0.0</td>\n      <td>0.086777</td>\n      <td>0.964706</td>\n      <td>0.917293</td>\n      <td>0.043448</td>\n      <td>0.498195</td>\n      <td>0.0</td>\n      <td>0.0</td>\n      <td>0.490394</td>\n      <td>0.0</td>\n      <td>0.0</td>\n      <td>0.508613</td>\n      <td>0.0</td>\n      <td>0.453901</td>\n      <td>0.143050</td>\n    </tr>\n    <tr>\n      <th>2</th>\n      <td>0.0</td>\n      <td>1.0</td>\n      <td>0.0</td>\n      <td>0.083471</td>\n      <td>0.205882</td>\n      <td>0.097744</td>\n      <td>0.050146</td>\n      <td>0.608409</td>\n      <td>0.0</td>\n      <td>0.0</td>\n      <td>0.490394</td>\n      <td>0.0</td>\n      <td>0.0</td>\n      <td>0.508613</td>\n      <td>0.0</td>\n      <td>0.530831</td>\n      <td>0.430079</td>\n    </tr>\n    <tr>\n      <th>3</th>\n      <td>0.0</td>\n      <td>1.0</td>\n      <td>0.0</td>\n      <td>0.075207</td>\n      <td>0.905882</td>\n      <td>0.954887</td>\n      <td>0.041903</td>\n      <td>0.452137</td>\n      <td>0.0</td>\n      <td>0.0</td>\n      <td>0.501425</td>\n      <td>0.0</td>\n      <td>0.0</td>\n      <td>0.514531</td>\n      <td>0.0</td>\n      <td>0.666667</td>\n      <td>0.739035</td>\n    </tr>\n    <tr>\n      <th>4</th>\n      <td>0.0</td>\n      <td>0.0</td>\n      <td>0.0</td>\n      <td>0.086777</td>\n      <td>0.911765</td>\n      <td>0.947368</td>\n      <td>0.055779</td>\n      <td>0.490697</td>\n      <td>0.0</td>\n      <td>0.0</td>\n      <td>0.478261</td>\n      <td>0.0</td>\n      <td>0.0</td>\n      <td>0.516779</td>\n      <td>0.0</td>\n      <td>0.469274</td>\n      <td>0.329897</td>\n    </tr>\n    <tr>\n      <th>5</th>\n      <td>0.0</td>\n      <td>1.0</td>\n      <td>0.0</td>\n      <td>0.086777</td>\n      <td>0.952941</td>\n      <td>0.887218</td>\n      <td>0.051520</td>\n      <td>0.490697</td>\n      <td>0.0</td>\n      <td>0.0</td>\n      <td>0.527357</td>\n      <td>0.0</td>\n      <td>0.0</td>\n      <td>0.472155</td>\n      <td>0.0</td>\n      <td>0.600000</td>\n      <td>0.143050</td>\n    </tr>\n    <tr>\n      <th>6</th>\n      <td>0.0</td>\n      <td>1.0</td>\n      <td>0.0</td>\n      <td>0.091736</td>\n      <td>0.964706</td>\n      <td>0.969925</td>\n      <td>0.054954</td>\n      <td>0.452137</td>\n      <td>0.0</td>\n      <td>0.0</td>\n      <td>0.483974</td>\n      <td>0.0</td>\n      <td>0.0</td>\n      <td>0.514531</td>\n      <td>0.0</td>\n      <td>0.750000</td>\n      <td>0.471349</td>\n    </tr>\n    <tr>\n      <th>7</th>\n      <td>0.0</td>\n      <td>1.0</td>\n      <td>0.0</td>\n      <td>0.090083</td>\n      <td>0.923529</td>\n      <td>0.939850</td>\n      <td>0.056534</td>\n      <td>0.400810</td>\n      <td>0.0</td>\n      <td>0.0</td>\n      <td>0.525361</td>\n      <td>0.0</td>\n      <td>0.0</td>\n      <td>0.514531</td>\n      <td>0.0</td>\n      <td>0.527850</td>\n      <td>0.386667</td>\n    </tr>\n    <tr>\n      <th>8</th>\n      <td>0.0</td>\n      <td>1.0</td>\n      <td>0.0</td>\n      <td>0.085950</td>\n      <td>0.876471</td>\n      <td>0.954887</td>\n      <td>0.058458</td>\n      <td>0.452137</td>\n      <td>0.0</td>\n      <td>0.0</td>\n      <td>1.000000</td>\n      <td>0.0</td>\n      <td>0.0</td>\n      <td>0.508613</td>\n      <td>0.0</td>\n      <td>0.750000</td>\n      <td>0.333333</td>\n    </tr>\n    <tr>\n      <th>9</th>\n      <td>0.0</td>\n      <td>1.0</td>\n      <td>0.0</td>\n      <td>0.088430</td>\n      <td>0.917647</td>\n      <td>0.924812</td>\n      <td>0.058046</td>\n      <td>0.749659</td>\n      <td>0.0</td>\n      <td>0.0</td>\n      <td>0.576923</td>\n      <td>0.0</td>\n      <td>0.0</td>\n      <td>0.516779</td>\n      <td>0.0</td>\n      <td>0.537580</td>\n      <td>0.342895</td>\n    </tr>\n    <tr>\n      <th>10</th>\n      <td>0.0</td>\n      <td>1.0</td>\n      <td>0.0</td>\n      <td>0.090909</td>\n      <td>0.941176</td>\n      <td>0.969925</td>\n      <td>0.047398</td>\n      <td>0.452137</td>\n      <td>9.0</td>\n      <td>4.0</td>\n      <td>0.477217</td>\n      <td>2.0</td>\n      <td>0.0</td>\n      <td>0.508613</td>\n      <td>0.0</td>\n      <td>0.492228</td>\n      <td>0.471349</td>\n    </tr>\n    <tr>\n      <th>11</th>\n      <td>0.0</td>\n      <td>1.0</td>\n      <td>0.0</td>\n      <td>0.066942</td>\n      <td>0.847059</td>\n      <td>0.939850</td>\n      <td>0.035720</td>\n      <td>0.785714</td>\n      <td>0.0</td>\n      <td>0.0</td>\n      <td>0.585014</td>\n      <td>0.0</td>\n      <td>0.0</td>\n      <td>0.508613</td>\n      <td>0.0</td>\n      <td>0.625000</td>\n      <td>0.271858</td>\n    </tr>\n    <tr>\n      <th>12</th>\n      <td>0.0</td>\n      <td>1.0</td>\n      <td>0.0</td>\n      <td>0.086777</td>\n      <td>0.917647</td>\n      <td>0.932331</td>\n      <td>0.051520</td>\n      <td>0.452137</td>\n      <td>0.0</td>\n      <td>0.0</td>\n      <td>0.501425</td>\n      <td>0.0</td>\n      <td>0.0</td>\n      <td>0.475342</td>\n      <td>0.0</td>\n      <td>0.363636</td>\n      <td>0.701845</td>\n    </tr>\n    <tr>\n      <th>13</th>\n      <td>0.0</td>\n      <td>1.0</td>\n      <td>0.0</td>\n      <td>0.085124</td>\n      <td>0.888235</td>\n      <td>0.984962</td>\n      <td>0.006031</td>\n      <td>0.318182</td>\n      <td>0.0</td>\n      <td>0.0</td>\n      <td>0.501425</td>\n      <td>0.0</td>\n      <td>0.0</td>\n      <td>0.472155</td>\n      <td>0.0</td>\n      <td>0.531646</td>\n      <td>0.703457</td>\n    </tr>\n    <tr>\n      <th>14</th>\n      <td>0.0</td>\n      <td>1.0</td>\n      <td>0.0</td>\n      <td>0.087603</td>\n      <td>0.929412</td>\n      <td>0.969925</td>\n      <td>0.057702</td>\n      <td>0.749659</td>\n      <td>0.0</td>\n      <td>0.0</td>\n      <td>0.477217</td>\n      <td>0.0</td>\n      <td>0.0</td>\n      <td>0.508613</td>\n      <td>0.0</td>\n      <td>0.520408</td>\n      <td>0.342895</td>\n    </tr>\n    <tr>\n      <th>15</th>\n      <td>0.0</td>\n      <td>1.0</td>\n      <td>0.0</td>\n      <td>0.090909</td>\n      <td>0.917647</td>\n      <td>0.939850</td>\n      <td>0.044472</td>\n      <td>0.457574</td>\n      <td>0.0</td>\n      <td>42.0</td>\n      <td>0.473810</td>\n      <td>3.0</td>\n      <td>0.0</td>\n      <td>0.472155</td>\n      <td>0.0</td>\n      <td>0.497110</td>\n      <td>0.513011</td>\n    </tr>\n    <tr>\n      <th>16</th>\n      <td>0.0</td>\n      <td>1.0</td>\n      <td>0.0</td>\n      <td>0.092562</td>\n      <td>0.900000</td>\n      <td>0.954887</td>\n      <td>0.059900</td>\n      <td>0.452137</td>\n      <td>0.0</td>\n      <td>0.0</td>\n      <td>0.615873</td>\n      <td>1.0</td>\n      <td>0.0</td>\n      <td>0.508613</td>\n      <td>3.0</td>\n      <td>0.484423</td>\n      <td>0.701845</td>\n    </tr>\n    <tr>\n      <th>17</th>\n      <td>0.0</td>\n      <td>1.0</td>\n      <td>0.0</td>\n      <td>0.080992</td>\n      <td>0.894118</td>\n      <td>0.947368</td>\n      <td>0.060313</td>\n      <td>0.457574</td>\n      <td>0.0</td>\n      <td>26.0</td>\n      <td>1.000000</td>\n      <td>6.0</td>\n      <td>0.0</td>\n      <td>0.605159</td>\n      <td>0.0</td>\n      <td>0.512821</td>\n      <td>0.410319</td>\n    </tr>\n    <tr>\n      <th>18</th>\n      <td>0.0</td>\n      <td>1.0</td>\n      <td>0.0</td>\n      <td>0.076860</td>\n      <td>0.876471</td>\n      <td>0.969925</td>\n      <td>0.053855</td>\n      <td>0.457574</td>\n      <td>0.0</td>\n      <td>24.0</td>\n      <td>0.462168</td>\n      <td>7.0</td>\n      <td>2.0</td>\n      <td>0.514531</td>\n      <td>0.0</td>\n      <td>0.506623</td>\n      <td>0.739035</td>\n    </tr>\n    <tr>\n      <th>19</th>\n      <td>0.0</td>\n      <td>1.0</td>\n      <td>0.0</td>\n      <td>0.084298</td>\n      <td>0.935294</td>\n      <td>0.969925</td>\n      <td>0.061961</td>\n      <td>0.608409</td>\n      <td>0.0</td>\n      <td>0.0</td>\n      <td>0.615873</td>\n      <td>0.0</td>\n      <td>0.0</td>\n      <td>0.508613</td>\n      <td>0.0</td>\n      <td>0.545817</td>\n      <td>0.244444</td>\n    </tr>\n  </tbody>\n</table>\n</div>"
          },
          "metadata": {}
        }
      ]
    },
    {
      "cell_type": "markdown",
      "source": [
        "This is what our data finally looks like"
      ],
      "metadata": {
        "id": "XkM2e1p9Ci9W"
      }
    },
    {
      "cell_type": "code",
      "source": [
        "corr = test_cpy.corr(method = 'spearman')\n",
        "plt.figure(figsize=(20,6))\n",
        "sns.heatmap(corr, annot=True, fmt='.2f', cmap='Blues')\n",
        "plt.title('Spearman Correlation Heatmap')\n",
        "plt.show()"
      ],
      "metadata": {
        "execution": {
          "iopub.status.busy": "2022-07-02T17:28:24.732932Z",
          "iopub.execute_input": "2022-07-02T17:28:24.733977Z",
          "iopub.status.idle": "2022-07-02T17:28:25.556619Z",
          "shell.execute_reply.started": "2022-07-02T17:28:24.733927Z",
          "shell.execute_reply": "2022-07-02T17:28:25.555728Z"
        },
        "trusted": true,
        "id": "Wh-0RLIaCi9X"
      },
      "execution_count": null,
      "outputs": []
    },
    {
      "cell_type": "code",
      "source": [
        "# pairplot_cols = num_cols\n",
        "# pairplot_cols.append('admit')\n",
        "# figure = plt.figure(figsize=(20,10))\n",
        "# sns.pairplot(test[pairplot_cols], hue='admit', palette='GnBu')\n",
        "# plt.show()"
      ],
      "metadata": {
        "execution": {
          "iopub.status.busy": "2022-07-02T13:14:01.299584Z",
          "iopub.execute_input": "2022-07-02T13:14:01.299952Z",
          "iopub.status.idle": "2022-07-02T13:16:43.501248Z",
          "shell.execute_reply.started": "2022-07-02T13:14:01.299921Z",
          "shell.execute_reply": "2022-07-02T13:16:43.499453Z"
        },
        "trusted": true,
        "id": "yR2sJONsCi9Y"
      },
      "execution_count": null,
      "outputs": []
    },
    {
      "cell_type": "code",
      "source": [
        "# fig, axes = plt.subplots(9, 3, figsize=(20,40))\n",
        "# for i, col in zip(range(9), num_cols):\n",
        "#     sns.stripplot(ax=axes[i][0], x='admit', y=col, data=test, palette='GnBu', jitter=True)\n",
        "#     axes[i][0].set_title(f'{col} Stripplot')\n",
        "#     sns.histplot(ax=axes[i][1], x=col, data=test, kde=False, bins=10, palette='GnBu', hue='admit', multiple='dodge')\n",
        "#     axes[i][1].set_title(f'{col} Displot')\n",
        "#     sns.boxplot(ax=axes[i][2], x='admit', y=col, data=test, palette='GnBu', hue='admit')\n",
        "#     axes[i][2].set_title(f'{col} Boxplot')"
      ],
      "metadata": {
        "execution": {
          "iopub.status.busy": "2022-07-02T13:18:33.179489Z",
          "iopub.execute_input": "2022-07-02T13:18:33.181152Z",
          "iopub.status.idle": "2022-07-02T13:18:40.201702Z",
          "shell.execute_reply.started": "2022-07-02T13:18:33.181072Z",
          "shell.execute_reply": "2022-07-02T13:18:40.200147Z"
        },
        "trusted": true,
        "id": "4T7ngP_KCi9Y"
      },
      "execution_count": null,
      "outputs": []
    },
    {
      "cell_type": "code",
      "source": [
        "# def outlier_limits( test, col_name, q1 = 0.25, q3 = 0.75):\n",
        "#     quartile1 =  test[col_name].quantile(q1)\n",
        "#     quartile3 =  test[col_name].quantile(q3)\n",
        "#     interquantile_range = quartile3 - quartile1\n",
        "#     up_limit = quartile3 + 1.5 * interquantile_range\n",
        "#     low_limit = quartile1 - 1.5 * interquantile_range\n",
        "#     return low_limit, up_limit\n",
        "\n",
        "# def replace_with_limits(test, variable, q1 = 0.25, q3 = 0.75):\n",
        "#     low_limit, up_limit = outlier_limits(test, variable, q1 = q1, q3 = q3)\n",
        "#     test.loc[(test[variable] < low_limit), variable] = low_limit\n",
        "#     test.loc[(test[variable] > up_limit), variable] = up_limit\n",
        "\n",
        "# for variable in test[num_cols].columns:\n",
        "#     replace_with_limits(test, variable)"
      ],
      "metadata": {
        "execution": {
          "iopub.status.busy": "2022-07-02T13:16:52.867022Z",
          "iopub.execute_input": "2022-07-02T13:16:52.867852Z",
          "iopub.status.idle": "2022-07-02T13:16:52.924769Z",
          "shell.execute_reply.started": "2022-07-02T13:16:52.867805Z",
          "shell.execute_reply": "2022-07-02T13:16:52.923796Z"
        },
        "trusted": true,
        "id": "qIx2HEsdCi9a"
      },
      "execution_count": null,
      "outputs": []
    },
    {
      "cell_type": "code",
      "source": [
        "# fig, axes = plt.subplots(9, 3, figsize=(20,40))\n",
        "# for i, col in zip(range(9), num_cols):\n",
        "#     sns.stripplot(ax=axes[i][0], x='admit', y=col, data=test, palette='GnBu', jitter=True)\n",
        "#     axes[i][0].set_title(f'{col} Stripplot')\n",
        "#     sns.histplot(ax=axes[i][1], x=col, data=test, kde=False, bins=10, palette='GnBu', hue='admit', multiple='dodge')\n",
        "#     axes[i][1].set_title(f'{col} Displot')\n",
        "#     sns.boxplot(ax=axes[i][2], x='admit', y=col, data=test, palette='GnBu', hue='admit')\n",
        "#     axes[i][2].set_title(f'{col} Boxplot')"
      ],
      "metadata": {
        "execution": {
          "iopub.status.busy": "2022-07-02T13:16:52.927957Z",
          "iopub.execute_input": "2022-07-02T13:16:52.928461Z",
          "iopub.status.idle": "2022-07-02T13:16:59.535084Z",
          "shell.execute_reply.started": "2022-07-02T13:16:52.928428Z",
          "shell.execute_reply": "2022-07-02T13:16:59.533696Z"
        },
        "trusted": true,
        "id": "zbyPMerOCi9b"
      },
      "execution_count": null,
      "outputs": []
    },
    {
      "cell_type": "code",
      "source": [
        "from sklearn.decomposition import PCA\n",
        "pca = PCA().fit(test[num_cols])\n",
        "plt.plot(np.cumsum(pca.explained_variance_ratio_))\n",
        "plt.xlabel('number of components')\n",
        "plt.ylabel('cumulative explained variance')"
      ],
      "metadata": {
        "execution": {
          "iopub.status.busy": "2022-07-02T17:14:14.342994Z",
          "iopub.execute_input": "2022-07-02T17:14:14.343622Z",
          "iopub.status.idle": "2022-07-02T17:14:14.63626Z",
          "shell.execute_reply.started": "2022-07-02T17:14:14.343574Z",
          "shell.execute_reply": "2022-07-02T17:14:14.635128Z"
        },
        "trusted": true,
        "id": "Y2zBBJiuCi9b"
      },
      "execution_count": null,
      "outputs": []
    },
    {
      "cell_type": "code",
      "source": [
        "# for col in num_cols:\n",
        "#     print(test[col].value_counts())"
      ],
      "metadata": {
        "execution": {
          "iopub.status.busy": "2022-07-02T13:21:23.983867Z",
          "iopub.execute_input": "2022-07-02T13:21:23.984236Z",
          "iopub.status.idle": "2022-07-02T13:21:24.010888Z",
          "shell.execute_reply.started": "2022-07-02T13:21:23.984207Z",
          "shell.execute_reply": "2022-07-02T13:21:24.009723Z"
        },
        "trusted": true,
        "id": "ptx44eVHCi9c"
      },
      "execution_count": null,
      "outputs": []
    },
    {
      "cell_type": "code",
      "source": [
        "# # num_cols.remove(col for col in ['researchExp', 'industryExp', 'internExp', 'journalPubs', 'confPubs', 'admit'])\n",
        "# print(cat_cols)\n",
        "# num_cols = ['toeflScore', 'greV', 'greQ', 'cgpa','researchExp', 'industryExp', 'internExp', 'journalPubs', 'confPubs']\n",
        "# print(num_cols)"
      ],
      "metadata": {
        "execution": {
          "iopub.status.busy": "2022-07-02T13:23:28.424026Z",
          "iopub.execute_input": "2022-07-02T13:23:28.424476Z",
          "iopub.status.idle": "2022-07-02T13:23:28.431656Z",
          "shell.execute_reply.started": "2022-07-02T13:23:28.424442Z",
          "shell.execute_reply": "2022-07-02T13:23:28.4303Z"
        },
        "trusted": true,
        "id": "8-kQz0mFCi9d"
      },
      "execution_count": null,
      "outputs": []
    },
    {
      "cell_type": "code",
      "source": [
        "# import statsmodels.api as sm\n",
        "# def calculate_vif(data):\n",
        "#     vif_df = pd.DataFrame(columns = ['Feature', 'VIF'])\n",
        "#     x_var_names = X.columns\n",
        "#     for i in range(0, x_var_names.shape[0]):\n",
        "#         y = X[x_var_names[i]]\n",
        "#         x = X[x_var_names.drop([x_var_names[i]])]\n",
        "#         r_squared = sm.OLS(y,x).fit().rsquared\n",
        "#         vif = round(1/(1-r_squared),2)\n",
        "#         vif_df.loc[i] = [x_var_names[i], vif]\n",
        "#     return vif_df.sort_values(by = 'VIF', axis = 0, ascending=False, inplace=False)\n",
        "\n",
        "# calculate_vif(X)"
      ],
      "metadata": {
        "execution": {
          "iopub.status.busy": "2022-07-02T05:10:45.789966Z",
          "iopub.execute_input": "2022-07-02T05:10:45.790338Z",
          "iopub.status.idle": "2022-07-02T05:10:45.961692Z",
          "shell.execute_reply.started": "2022-07-02T05:10:45.790305Z",
          "shell.execute_reply": "2022-07-02T05:10:45.960346Z"
        },
        "trusted": true,
        "id": "NdJ_DzFUCi9e"
      },
      "execution_count": null,
      "outputs": []
    },
    {
      "cell_type": "code",
      "source": [
        "from sklearn.model_selection import train_test_split\n",
        "from sklearn.pipeline import Pipeline\n",
        "from sklearn.model_selection import GridSearchCV, KFold\n",
        "from sklearn.linear_model import LogisticRegression\n",
        "from sklearn.naive_bayes import GaussianNB\n",
        "from sklearn.neighbors import KNeighborsClassifier\n",
        "from sklearn.svm import SVC\n",
        "from sklearn import tree\n",
        "from sklearn.tree import DecisionTreeClassifier\n",
        "from sklearn.ensemble import RandomForestClassifier\n",
        "from sklearn.ensemble import AdaBoostClassifier\n",
        "from sklearn.ensemble import GradientBoostingClassifier\n",
        "from sklearn.metrics import confusion_matrix\n",
        "from sklearn.metrics import precision_score, recall_score, f1_score, accuracy_score, roc_auc_score\n",
        "from sklearn.feature_selection import VarianceThreshold\n",
        "import lightgbm as lgb\n",
        "import xgboost as xgb\n",
        "from catboost import CatBoostClassifier"
      ],
      "metadata": {
        "execution": {
          "iopub.status.busy": "2022-07-02T18:42:28.708181Z",
          "iopub.execute_input": "2022-07-02T18:42:28.708554Z",
          "iopub.status.idle": "2022-07-02T18:42:28.717221Z",
          "shell.execute_reply.started": "2022-07-02T18:42:28.708524Z",
          "shell.execute_reply": "2022-07-02T18:42:28.716286Z"
        },
        "trusted": true,
        "id": "lRtGgqnqCi9f"
      },
      "execution_count": null,
      "outputs": []
    },
    {
      "cell_type": "code",
      "source": [
        "#Define your X and y data and use this to split the data.\n",
        "from sklearn.model_selection import train_test_split\n",
        "X_train, X_test, y_train, y_test = train_test_split(X,y,test_size=0.2,random_state=420, stratify=y)"
      ],
      "metadata": {
        "execution": {
          "iopub.status.busy": "2022-07-02T18:11:28.337838Z",
          "iopub.execute_input": "2022-07-02T18:11:28.338922Z",
          "iopub.status.idle": "2022-07-02T18:11:28.367925Z",
          "shell.execute_reply.started": "2022-07-02T18:11:28.338882Z",
          "shell.execute_reply": "2022-07-02T18:11:28.366821Z"
        },
        "trusted": true,
        "id": "5UGoSy6OCi9g"
      },
      "execution_count": null,
      "outputs": []
    },
    {
      "cell_type": "code",
      "source": [
        "X_test.head()"
      ],
      "metadata": {
        "execution": {
          "iopub.status.busy": "2022-07-02T18:14:01.527802Z",
          "iopub.execute_input": "2022-07-02T18:14:01.52822Z",
          "iopub.status.idle": "2022-07-02T18:14:01.556955Z",
          "shell.execute_reply.started": "2022-07-02T18:14:01.528186Z",
          "shell.execute_reply": "2022-07-02T18:14:01.555709Z"
        },
        "trusted": true,
        "id": "BIoZ9x1iCi9g"
      },
      "execution_count": null,
      "outputs": []
    },
    {
      "cell_type": "code",
      "source": [
        "test.head()"
      ],
      "metadata": {
        "execution": {
          "iopub.status.busy": "2022-07-02T18:14:12.79393Z",
          "iopub.execute_input": "2022-07-02T18:14:12.795182Z",
          "iopub.status.idle": "2022-07-02T18:14:12.825309Z",
          "shell.execute_reply.started": "2022-07-02T18:14:12.795121Z",
          "shell.execute_reply": "2022-07-02T18:14:12.824079Z"
        },
        "trusted": true,
        "id": "KER7Y2tECi9h"
      },
      "execution_count": null,
      "outputs": []
    },
    {
      "cell_type": "code",
      "source": [
        "import sklearn\n",
        "# model = xgb.XGBClassifier()\n",
        "# model.fit(X_train,y_train)\n",
        "y_pred = model.predict(X)\n",
        "# print(X)\n",
        "\n",
        "# from sklearn import metrics\n",
        "# print(metrics.confusion_matrix(y_test, y_pred))\n",
        "# print(sklearn.metrics.accuracy_score(y_test,y_pred))"
      ],
      "metadata": {
        "execution": {
          "iopub.status.busy": "2022-07-02T18:43:14.147483Z",
          "iopub.execute_input": "2022-07-02T18:43:14.147913Z",
          "iopub.status.idle": "2022-07-02T18:43:14.168099Z",
          "shell.execute_reply.started": "2022-07-02T18:43:14.147881Z",
          "shell.execute_reply": "2022-07-02T18:43:14.167145Z"
        },
        "trusted": true,
        "id": "4-FPzAIbCi9h"
      },
      "execution_count": null,
      "outputs": []
    },
    {
      "cell_type": "markdown",
      "source": [
        "This is end. Pls."
      ],
      "metadata": {
        "id": "RbqxN7l5Ci9i"
      }
    },
    {
      "cell_type": "code",
      "source": [
        "xgb_params = {'max_depth': range (2, 10, 1), 'n_estimators': [50, 100, 250, 400, 500, 600, 750, 1000],\n",
        "              'learning_rate': [0.001, 0.0025, 0.005, 0.0075, 0.01],\n",
        "              'objective': ['binary:hinge', 'binary:logistic', 'binary:logitraw']\n",
        "}\n",
        "xgb_clf = xgb.XGBClassifier()\n",
        "txgb_model = fit(xgb_clf, xgb_params)"
      ],
      "metadata": {
        "execution": {
          "iopub.status.busy": "2022-07-02T18:03:32.636516Z",
          "iopub.execute_input": "2022-07-02T18:03:32.63692Z"
        },
        "trusted": true,
        "id": "Qwfr5qJYCi9j"
      },
      "execution_count": null,
      "outputs": []
    },
    {
      "cell_type": "code",
      "source": [
        "def fit(clf, params, cv=10, X_train=X_train, y_train=y_train):\n",
        "    grid = GridSearchCV(clf, params, cv=KFold(n_splits=cv), n_jobs=1, verbose=1, return_train_score=True, scoring='accuracy', refit=True) #verbose and n_jobs help us see the computation time and score of a cv. Higher the value of verbose, more the information printed out.\n",
        "    grid.fit(X_train, y_train)\n",
        "    return grid\n",
        "\n",
        "def make_predictions(model, X_test=X_test):\n",
        "    return model.predict(X_test)\n",
        "\n",
        "def best_scores(model):\n",
        "    # print(f'The mean cross validation test score is: {model.cv_results_.mean_test_score}') #for some reason this wasn't working for me even though the attribute exists so lets just leave it.\n",
        "    print(f'The best parameters are: {model.best_params_}')\n",
        "    print(f'The best score that we got is: {model.best_score_}')\n",
        "    return None\n",
        "\n",
        "def plot_confusion_matrix(y_pred):\n",
        "    print('00: True Negatives\\n01: False Positives\\n10: False Negatives\\n11: True Positives\\n')\n",
        "    conf_matrix = confusion_matrix(y_true=y_test, y_pred=y_pred)\n",
        "    fig, ax = plt.subplots(figsize=(5, 5))\n",
        "    ax.matshow(conf_matrix, cmap='GnBu', alpha=0.75)\n",
        "    for i in range(conf_matrix.shape[0]):\n",
        "        for j in range(conf_matrix.shape[1]):\n",
        "            ax.text(x=j, y=i,s=conf_matrix[i, j], va='center', ha='center', size='large')\n",
        "    plt.xlabel('Predictions', fontsize=14)\n",
        "    plt.ylabel('Actuals', fontsize=14)\n",
        "    plt.title('Confusion Matrix', fontsize=14)\n",
        "    plt.show()\n",
        "    return None\n",
        "\n",
        "def check_scores(y_pred):\n",
        "    print('Precision: %.3f' % precision_score(y_test, y_pred))\n",
        "    print('Recall: %.3f' % recall_score(y_test, y_pred))\n",
        "    print('Accuracy: %.3f' % accuracy_score(y_test, y_pred))\n",
        "    print('F1 Score: %.3f' % f1_score(y_test, y_pred))\n",
        "    print('ROC-AUC Score: %.3f' % roc_auc_score(y_test, y_pred))\n",
        "    return None"
      ],
      "metadata": {
        "execution": {
          "iopub.status.busy": "2022-07-02T18:47:00.213639Z",
          "iopub.execute_input": "2022-07-02T18:47:00.214879Z",
          "iopub.status.idle": "2022-07-02T18:47:00.229345Z",
          "shell.execute_reply.started": "2022-07-02T18:47:00.214838Z",
          "shell.execute_reply": "2022-07-02T18:47:00.228172Z"
        },
        "trusted": true,
        "id": "4HEYf2PHCi9j"
      },
      "execution_count": null,
      "outputs": []
    },
    {
      "cell_type": "code",
      "source": [
        "# lr_params = {'C':[0.001,.009,0.01,.09,1, 1.01, 1.001], 'penalty':['l1', 'l2']} #lasso and ridge regression\n",
        "# lr_clf = LogisticRegression(solver='saga', max_iter=5000)\n",
        "# lr_model = fit(lr_clf, lr_params)"
      ],
      "metadata": {
        "execution": {
          "iopub.status.busy": "2022-07-02T06:50:45.87601Z",
          "iopub.execute_input": "2022-07-02T06:50:45.876483Z",
          "iopub.status.idle": "2022-07-02T07:18:11.534193Z",
          "shell.execute_reply.started": "2022-07-02T06:50:45.876446Z",
          "shell.execute_reply": "2022-07-02T07:18:11.532067Z"
        },
        "trusted": true,
        "id": "sqWgKwMiCi9k"
      },
      "execution_count": null,
      "outputs": []
    },
    {
      "cell_type": "code",
      "source": [
        "# best_scores(lr_model)"
      ],
      "metadata": {
        "execution": {
          "iopub.status.busy": "2022-07-02T06:47:41.138636Z",
          "iopub.execute_input": "2022-07-02T06:47:41.139523Z",
          "iopub.status.idle": "2022-07-02T06:47:41.144229Z",
          "shell.execute_reply.started": "2022-07-02T06:47:41.139489Z",
          "shell.execute_reply": "2022-07-02T06:47:41.143332Z"
        },
        "trusted": true,
        "id": "LvQ_5nXhCi9m"
      },
      "execution_count": null,
      "outputs": []
    },
    {
      "cell_type": "code",
      "source": [
        "# lr_y_pred = make_predictions(lr_model)\n",
        "# check_scores(lr_y_pred)"
      ],
      "metadata": {
        "execution": {
          "iopub.status.busy": "2022-07-02T05:07:58.143532Z",
          "iopub.execute_input": "2022-07-02T05:07:58.144556Z",
          "iopub.status.idle": "2022-07-02T05:07:58.193406Z",
          "shell.execute_reply.started": "2022-07-02T05:07:58.144504Z",
          "shell.execute_reply": "2022-07-02T05:07:58.192019Z"
        },
        "trusted": true,
        "id": "4gauZxzhCi9n"
      },
      "execution_count": null,
      "outputs": []
    },
    {
      "cell_type": "code",
      "source": [
        "# plot_confusion_matrix(lr_y_pred)"
      ],
      "metadata": {
        "execution": {
          "iopub.status.busy": "2022-07-02T05:08:06.585251Z",
          "iopub.execute_input": "2022-07-02T05:08:06.58607Z",
          "iopub.status.idle": "2022-07-02T05:08:06.802468Z",
          "shell.execute_reply.started": "2022-07-02T05:08:06.586009Z",
          "shell.execute_reply": "2022-07-02T05:08:06.798946Z"
        },
        "trusted": true,
        "id": "5PLjIWo9Ci9o"
      },
      "execution_count": null,
      "outputs": []
    },
    {
      "cell_type": "code",
      "source": [
        "# lr_feature_scores = lr_model.best_estimator_.coef_[0].tolist()\n",
        "# lr_fi = pd.DataFrame({'Feature': final_features, 'Feature Importance': lr_feature_scores})\n",
        "# plt.figure(figsize=(10,6))\n",
        "# sns.barplot(x='Feature Importance', y='Feature', data=lr_fi, palette='GnBu')\n",
        "# plt.show()"
      ],
      "metadata": {
        "execution": {
          "iopub.status.busy": "2022-07-02T05:08:18.686302Z",
          "iopub.execute_input": "2022-07-02T05:08:18.68707Z",
          "iopub.status.idle": "2022-07-02T05:08:18.891494Z",
          "shell.execute_reply.started": "2022-07-02T05:08:18.687031Z",
          "shell.execute_reply": "2022-07-02T05:08:18.890581Z"
        },
        "trusted": true,
        "id": "iRnoxw1NCi9o"
      },
      "execution_count": null,
      "outputs": []
    },
    {
      "cell_type": "code",
      "source": [
        "gnb_params = {'priors': [None], 'var_smoothing': np.logspace(0,-9, num=100)}\n",
        "gnb_clf = GaussianNB()\n",
        "gnb_model = fit(gnb_clf, gnb_params)"
      ],
      "metadata": {
        "execution": {
          "iopub.status.busy": "2022-07-02T06:47:47.246644Z",
          "iopub.execute_input": "2022-07-02T06:47:47.247399Z",
          "iopub.status.idle": "2022-07-02T06:48:09.253138Z",
          "shell.execute_reply.started": "2022-07-02T06:47:47.247359Z",
          "shell.execute_reply": "2022-07-02T06:48:09.251738Z"
        },
        "trusted": true,
        "id": "a05qpoWgCi9p"
      },
      "execution_count": null,
      "outputs": []
    },
    {
      "cell_type": "code",
      "source": [
        "best_scores(gnb_model)"
      ],
      "metadata": {
        "execution": {
          "iopub.status.busy": "2022-07-02T06:49:11.338774Z",
          "iopub.execute_input": "2022-07-02T06:49:11.340955Z",
          "iopub.status.idle": "2022-07-02T06:49:11.375741Z",
          "shell.execute_reply.started": "2022-07-02T06:49:11.340805Z",
          "shell.execute_reply": "2022-07-02T06:49:11.366353Z"
        },
        "trusted": true,
        "id": "3p1DVvdsCi9q"
      },
      "execution_count": null,
      "outputs": []
    },
    {
      "cell_type": "code",
      "source": [
        "gnb_y_pred = make_predictions(gnb_model)\n",
        "check_scores(gnb_y_pred)"
      ],
      "metadata": {
        "execution": {
          "iopub.status.busy": "2022-07-02T06:49:33.045937Z",
          "iopub.execute_input": "2022-07-02T06:49:33.046457Z",
          "iopub.status.idle": "2022-07-02T06:49:33.082083Z",
          "shell.execute_reply.started": "2022-07-02T06:49:33.046404Z",
          "shell.execute_reply": "2022-07-02T06:49:33.080757Z"
        },
        "trusted": true,
        "id": "t1pXr6jjCi9r"
      },
      "execution_count": null,
      "outputs": []
    },
    {
      "cell_type": "code",
      "source": [
        "plot_confusion_matrix(gnb_y_pred)"
      ],
      "metadata": {
        "execution": {
          "iopub.status.busy": "2022-07-02T06:49:50.824562Z",
          "iopub.execute_input": "2022-07-02T06:49:50.825328Z",
          "iopub.status.idle": "2022-07-02T06:49:51.058295Z",
          "shell.execute_reply.started": "2022-07-02T06:49:50.82526Z",
          "shell.execute_reply": "2022-07-02T06:49:51.05686Z"
        },
        "trusted": true,
        "id": "Zq4YOCWGCi9r"
      },
      "execution_count": null,
      "outputs": []
    },
    {
      "cell_type": "code",
      "source": [
        "knns_params = {'n_neighbors': list(range(1, 21)), 'weights': ['uniform', 'distance'],\n",
        "               'metric': ['euclidean', 'manhattan']}\n",
        "knns_clf = KNeighborsClassifier()\n",
        "knns_model = fit(knns_clf, knns_params)"
      ],
      "metadata": {
        "trusted": true,
        "id": "BnuCD87dCi9s"
      },
      "execution_count": null,
      "outputs": []
    },
    {
      "cell_type": "code",
      "source": [
        "best_scores(knns_model)"
      ],
      "metadata": {
        "execution": {
          "iopub.status.busy": "2022-07-02T07:35:12.622652Z",
          "iopub.execute_input": "2022-07-02T07:35:12.623156Z",
          "iopub.status.idle": "2022-07-02T07:35:12.629879Z",
          "shell.execute_reply.started": "2022-07-02T07:35:12.623116Z",
          "shell.execute_reply": "2022-07-02T07:35:12.628569Z"
        },
        "trusted": true,
        "id": "8yD1wuUBCi9s"
      },
      "execution_count": null,
      "outputs": []
    },
    {
      "cell_type": "code",
      "source": [
        "knns_y_pred = make_predictions(knns_model)\n",
        "check_scores(knns_y_pred)"
      ],
      "metadata": {
        "execution": {
          "iopub.status.busy": "2022-07-02T07:35:35.688574Z",
          "iopub.execute_input": "2022-07-02T07:35:35.689399Z",
          "iopub.status.idle": "2022-07-02T07:35:35.902551Z",
          "shell.execute_reply.started": "2022-07-02T07:35:35.689359Z",
          "shell.execute_reply": "2022-07-02T07:35:35.901354Z"
        },
        "trusted": true,
        "id": "prcldiduCi9t"
      },
      "execution_count": null,
      "outputs": []
    },
    {
      "cell_type": "code",
      "source": [
        "plot_confusion_matrix(knns_y_pred)"
      ],
      "metadata": {
        "execution": {
          "iopub.status.busy": "2022-07-02T07:35:50.725029Z",
          "iopub.execute_input": "2022-07-02T07:35:50.726015Z",
          "iopub.status.idle": "2022-07-02T07:35:50.901599Z",
          "shell.execute_reply.started": "2022-07-02T07:35:50.725972Z",
          "shell.execute_reply": "2022-07-02T07:35:50.900553Z"
        },
        "trusted": true,
        "id": "n1UiGcWgCi9u"
      },
      "execution_count": null,
      "outputs": []
    },
    {
      "cell_type": "code",
      "source": [
        "y_pred = knns_y_pred"
      ],
      "metadata": {
        "execution": {
          "iopub.status.busy": "2022-07-02T08:17:46.901207Z",
          "iopub.execute_input": "2022-07-02T08:17:46.901753Z",
          "iopub.status.idle": "2022-07-02T08:17:46.907931Z",
          "shell.execute_reply.started": "2022-07-02T08:17:46.901712Z",
          "shell.execute_reply": "2022-07-02T08:17:46.906357Z"
        },
        "trusted": true,
        "id": "mWP03X4ECi9v"
      },
      "execution_count": null,
      "outputs": []
    },
    {
      "cell_type": "code",
      "source": [
        "# use this to output a submission file. Download the submission file from kaggle outputs and upload it on the competition page.\n",
        "submission = pd.DataFrame({'uid': uids,'admit':y_pred.astype(str)})\n",
        "filename = 'sample_sumission.csv'\n",
        "\n",
        "submission.to_csv(filename,index=False)"
      ],
      "metadata": {
        "execution": {
          "iopub.status.busy": "2022-07-02T18:43:19.813334Z",
          "iopub.execute_input": "2022-07-02T18:43:19.813840Z",
          "iopub.status.idle": "2022-07-02T18:43:19.863163Z",
          "shell.execute_reply.started": "2022-07-02T18:43:19.813795Z",
          "shell.execute_reply": "2022-07-02T18:43:19.862222Z"
        },
        "trusted": true,
        "id": "UEwcTErtCi9w"
      },
      "execution_count": null,
      "outputs": []
    },
    {
      "cell_type": "code",
      "source": [],
      "metadata": {
        "id": "teTgD0P7Ci9w"
      },
      "execution_count": null,
      "outputs": []
    }
  ]
}