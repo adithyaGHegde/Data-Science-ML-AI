{
  "nbformat": 4,
  "nbformat_minor": 0,
  "metadata": {
    "colab": {
      "provenance": [],
      "include_colab_link": true
    },
    "kernelspec": {
      "name": "python3",
      "display_name": "Python 3"
    },
    "language_info": {
      "name": "python"
    }
  },
  "cells": [
    {
      "cell_type": "markdown",
      "metadata": {
        "id": "view-in-github",
        "colab_type": "text"
      },
      "source": [
        "<a href=\"https://colab.research.google.com/github/adithyaGHegde/Data-Science-ML-AI/blob/main/OCO2_TiNITHackathon.ipynb\" target=\"_parent\"><img src=\"https://colab.research.google.com/assets/colab-badge.svg\" alt=\"Open In Colab\"/></a>"
      ]
    },
    {
      "cell_type": "markdown",
      "source": [
        "# **Tri-NIT Hackathon: ML PS2: Team - Red Mountain**"
      ],
      "metadata": {
        "id": "2TT0FSc35sQU"
      }
    },
    {
      "cell_type": "markdown",
      "source": [
        "### **Imports**"
      ],
      "metadata": {
        "id": "ohsoDFkx54J9"
      }
    },
    {
      "cell_type": "code",
      "execution_count": null,
      "metadata": {
        "id": "nLwrl0TDywSV",
        "colab": {
          "base_uri": "https://localhost:8080/"
        },
        "outputId": "05447e13-1a75-4bc2-ad0d-25f78cbfdc15"
      },
      "outputs": [
        {
          "output_type": "stream",
          "name": "stdout",
          "text": [
            "Looking in indexes: https://pypi.org/simple, https://us-python.pkg.dev/colab-wheels/public/simple/\n",
            "Collecting https://github.com/pandas-profiling/pandas-profiling/archive/master.zip\n",
            "  Downloading https://github.com/pandas-profiling/pandas-profiling/archive/master.zip (22.1 MB)\n",
            "\u001b[2K     \u001b[90m━━━━━━━━━━━━━━━━━━━━━━━━━━━━━━━━━━━━━━━━\u001b[0m \u001b[32m22.1/22.1 MB\u001b[0m \u001b[31m82.5 MB/s\u001b[0m eta \u001b[36m0:00:00\u001b[0m\n",
            "\u001b[?25h  Preparing metadata (setup.py) ... \u001b[?25l\u001b[?25hdone\n",
            "Requirement already satisfied: scipy<1.10,>=1.4.1 in /usr/local/lib/python3.8/dist-packages (from ydata-profiling==0.0.dev0) (1.7.3)\n",
            "Requirement already satisfied: pandas!=1.4.0,<1.6,>1.1 in /usr/local/lib/python3.8/dist-packages (from ydata-profiling==0.0.dev0) (1.3.5)\n",
            "Requirement already satisfied: matplotlib<3.7,>=3.2 in /usr/local/lib/python3.8/dist-packages (from ydata-profiling==0.0.dev0) (3.2.2)\n",
            "Requirement already satisfied: pydantic<1.11,>=1.8.1 in /usr/local/lib/python3.8/dist-packages (from ydata-profiling==0.0.dev0) (1.10.4)\n",
            "Requirement already satisfied: PyYAML<6.1,>=5.0.0 in /usr/local/lib/python3.8/dist-packages (from ydata-profiling==0.0.dev0) (6.0)\n",
            "Requirement already satisfied: jinja2<3.2,>=2.11.1 in /usr/local/lib/python3.8/dist-packages (from ydata-profiling==0.0.dev0) (2.11.3)\n",
            "Collecting visions[type_image_path]==0.7.5\n",
            "  Downloading visions-0.7.5-py3-none-any.whl (102 kB)\n",
            "\u001b[2K     \u001b[90m━━━━━━━━━━━━━━━━━━━━━━━━━━━━━━━━━━━━━━\u001b[0m \u001b[32m102.7/102.7 KB\u001b[0m \u001b[31m11.6 MB/s\u001b[0m eta \u001b[36m0:00:00\u001b[0m\n",
            "\u001b[?25hRequirement already satisfied: numpy<1.24,>=1.16.0 in /usr/local/lib/python3.8/dist-packages (from ydata-profiling==0.0.dev0) (1.21.6)\n",
            "Collecting htmlmin==0.1.12\n",
            "  Downloading htmlmin-0.1.12.tar.gz (19 kB)\n",
            "  Preparing metadata (setup.py) ... \u001b[?25l\u001b[?25hdone\n",
            "Collecting phik<0.13,>=0.11.1\n",
            "  Downloading phik-0.12.3-cp38-cp38-manylinux_2_17_x86_64.manylinux2014_x86_64.whl (679 kB)\n",
            "\u001b[2K     \u001b[90m━━━━━━━━━━━━━━━━━━━━━━━━━━━━━━━━━━━━━━\u001b[0m \u001b[32m679.5/679.5 KB\u001b[0m \u001b[31m52.2 MB/s\u001b[0m eta \u001b[36m0:00:00\u001b[0m\n",
            "\u001b[?25hRequirement already satisfied: requests<2.29,>=2.24.0 in /usr/local/lib/python3.8/dist-packages (from ydata-profiling==0.0.dev0) (2.25.1)\n",
            "Requirement already satisfied: tqdm<4.65,>=4.48.2 in /usr/local/lib/python3.8/dist-packages (from ydata-profiling==0.0.dev0) (4.64.1)\n",
            "Requirement already satisfied: seaborn<0.13,>=0.10.1 in /usr/local/lib/python3.8/dist-packages (from ydata-profiling==0.0.dev0) (0.11.2)\n",
            "Collecting multimethod<1.10,>=1.4\n",
            "  Downloading multimethod-1.9.1-py3-none-any.whl (10 kB)\n",
            "Collecting statsmodels<0.14,>=0.13.2\n",
            "  Downloading statsmodels-0.13.5-cp38-cp38-manylinux_2_17_x86_64.manylinux2014_x86_64.whl (9.9 MB)\n",
            "\u001b[2K     \u001b[90m━━━━━━━━━━━━━━━━━━━━━━━━━━━━━━━━━━━━━━━━\u001b[0m \u001b[32m9.9/9.9 MB\u001b[0m \u001b[31m122.8 MB/s\u001b[0m eta \u001b[36m0:00:00\u001b[0m\n",
            "\u001b[?25hCollecting typeguard<2.14,>=2.13.2\n",
            "  Downloading typeguard-2.13.3-py3-none-any.whl (17 kB)\n",
            "Collecting tangled-up-in-unicode>=0.0.4\n",
            "  Downloading tangled_up_in_unicode-0.2.0-py3-none-any.whl (4.7 MB)\n",
            "\u001b[2K     \u001b[90m━━━━━━━━━━━━━━━━━━━━━━━━━━━━━━━━━━━━━━━━\u001b[0m \u001b[32m4.7/4.7 MB\u001b[0m \u001b[31m119.9 MB/s\u001b[0m eta \u001b[36m0:00:00\u001b[0m\n",
            "\u001b[?25hRequirement already satisfied: networkx>=2.4 in /usr/local/lib/python3.8/dist-packages (from visions[type_image_path]==0.7.5->ydata-profiling==0.0.dev0) (3.0)\n",
            "Requirement already satisfied: attrs>=19.3.0 in /usr/local/lib/python3.8/dist-packages (from visions[type_image_path]==0.7.5->ydata-profiling==0.0.dev0) (22.2.0)\n",
            "Collecting imagehash\n",
            "  Downloading ImageHash-4.3.1-py2.py3-none-any.whl (296 kB)\n",
            "\u001b[2K     \u001b[90m━━━━━━━━━━━━━━━━━━━━━━━━━━━━━━━━━━━━━━\u001b[0m \u001b[32m296.5/296.5 KB\u001b[0m \u001b[31m31.1 MB/s\u001b[0m eta \u001b[36m0:00:00\u001b[0m\n",
            "\u001b[?25hRequirement already satisfied: Pillow in /usr/local/lib/python3.8/dist-packages (from visions[type_image_path]==0.7.5->ydata-profiling==0.0.dev0) (7.1.2)\n",
            "Requirement already satisfied: MarkupSafe>=0.23 in /usr/local/lib/python3.8/dist-packages (from jinja2<3.2,>=2.11.1->ydata-profiling==0.0.dev0) (2.0.1)\n",
            "Requirement already satisfied: kiwisolver>=1.0.1 in /usr/local/lib/python3.8/dist-packages (from matplotlib<3.7,>=3.2->ydata-profiling==0.0.dev0) (1.4.4)\n",
            "Requirement already satisfied: python-dateutil>=2.1 in /usr/local/lib/python3.8/dist-packages (from matplotlib<3.7,>=3.2->ydata-profiling==0.0.dev0) (2.8.2)\n",
            "Requirement already satisfied: cycler>=0.10 in /usr/local/lib/python3.8/dist-packages (from matplotlib<3.7,>=3.2->ydata-profiling==0.0.dev0) (0.11.0)\n",
            "Requirement already satisfied: pyparsing!=2.0.4,!=2.1.2,!=2.1.6,>=2.0.1 in /usr/local/lib/python3.8/dist-packages (from matplotlib<3.7,>=3.2->ydata-profiling==0.0.dev0) (3.0.9)\n",
            "Requirement already satisfied: pytz>=2017.3 in /usr/local/lib/python3.8/dist-packages (from pandas!=1.4.0,<1.6,>1.1->ydata-profiling==0.0.dev0) (2022.7.1)\n",
            "Requirement already satisfied: joblib>=0.14.1 in /usr/local/lib/python3.8/dist-packages (from phik<0.13,>=0.11.1->ydata-profiling==0.0.dev0) (1.2.0)\n",
            "Requirement already satisfied: typing-extensions>=4.2.0 in /usr/local/lib/python3.8/dist-packages (from pydantic<1.11,>=1.8.1->ydata-profiling==0.0.dev0) (4.4.0)\n",
            "Requirement already satisfied: certifi>=2017.4.17 in /usr/local/lib/python3.8/dist-packages (from requests<2.29,>=2.24.0->ydata-profiling==0.0.dev0) (2022.12.7)\n",
            "Requirement already satisfied: chardet<5,>=3.0.2 in /usr/local/lib/python3.8/dist-packages (from requests<2.29,>=2.24.0->ydata-profiling==0.0.dev0) (4.0.0)\n",
            "Requirement already satisfied: idna<3,>=2.5 in /usr/local/lib/python3.8/dist-packages (from requests<2.29,>=2.24.0->ydata-profiling==0.0.dev0) (2.10)\n",
            "Requirement already satisfied: urllib3<1.27,>=1.21.1 in /usr/local/lib/python3.8/dist-packages (from requests<2.29,>=2.24.0->ydata-profiling==0.0.dev0) (1.24.3)\n",
            "Requirement already satisfied: packaging>=21.3 in /usr/local/lib/python3.8/dist-packages (from statsmodels<0.14,>=0.13.2->ydata-profiling==0.0.dev0) (23.0)\n",
            "Requirement already satisfied: patsy>=0.5.2 in /usr/local/lib/python3.8/dist-packages (from statsmodels<0.14,>=0.13.2->ydata-profiling==0.0.dev0) (0.5.3)\n",
            "Requirement already satisfied: six in /usr/local/lib/python3.8/dist-packages (from patsy>=0.5.2->statsmodels<0.14,>=0.13.2->ydata-profiling==0.0.dev0) (1.15.0)\n",
            "Requirement already satisfied: PyWavelets in /usr/local/lib/python3.8/dist-packages (from imagehash->visions[type_image_path]==0.7.5->ydata-profiling==0.0.dev0) (1.4.1)\n",
            "Building wheels for collected packages: ydata-profiling, htmlmin\n",
            "  Building wheel for ydata-profiling (setup.py) ... \u001b[?25l\u001b[?25hdone\n",
            "  Created wheel for ydata-profiling: filename=ydata_profiling-0.0.dev0-py2.py3-none-any.whl size=344582 sha256=b44357bdba2f98cd53d1664cf663af3f1db3b44d5d96fb4142e6b44814107205\n",
            "  Stored in directory: /tmp/pip-ephem-wheel-cache-w38zb_mp/wheels/64/b6/85/dfc808b23666a5910371784e349d28818006ff63ed9cfeca59\n",
            "  Building wheel for htmlmin (setup.py) ... \u001b[?25l\u001b[?25hdone\n",
            "  Created wheel for htmlmin: filename=htmlmin-0.1.12-py3-none-any.whl size=27098 sha256=40b1859ba94d5844a7f38973013ccfc268e67d067cc4e0c0c1969d8888aae611\n",
            "  Stored in directory: /root/.cache/pip/wheels/23/14/6e/4be5bfeeb027f4939a01764b48edd5996acf574b0913fe5243\n",
            "Successfully built ydata-profiling htmlmin\n",
            "Installing collected packages: htmlmin, typeguard, tangled-up-in-unicode, multimethod, imagehash, visions, statsmodels, phik, ydata-profiling\n",
            "  Attempting uninstall: typeguard\n",
            "    Found existing installation: typeguard 2.7.1\n",
            "    Uninstalling typeguard-2.7.1:\n",
            "      Successfully uninstalled typeguard-2.7.1\n",
            "  Attempting uninstall: statsmodels\n",
            "    Found existing installation: statsmodels 0.12.2\n",
            "    Uninstalling statsmodels-0.12.2:\n",
            "      Successfully uninstalled statsmodels-0.12.2\n",
            "Successfully installed htmlmin-0.1.12 imagehash-4.3.1 multimethod-1.9.1 phik-0.12.3 statsmodels-0.13.5 tangled-up-in-unicode-0.2.0 typeguard-2.13.3 visions-0.7.5 ydata-profiling-0.0.dev0\n"
          ]
        }
      ],
      "source": [
        "! pip install https://github.com/pandas-profiling/pandas-profiling/archive/master.zip"
      ]
    },
    {
      "cell_type": "code",
      "source": [
        "import netCDF4\n",
        "import h5py\n",
        "import pandas as pd\n",
        "import seaborn as sns\n",
        "import matplotlib.pyplot as plt\n",
        "import os"
      ],
      "metadata": {
        "id": "K5JoDGuTLGe4"
      },
      "execution_count": null,
      "outputs": []
    },
    {
      "cell_type": "code",
      "source": [
        " HDF5_USE_FILE_LOCKING = False"
      ],
      "metadata": {
        "id": "2xCml7eJ0lnB"
      },
      "execution_count": null,
      "outputs": []
    },
    {
      "cell_type": "code",
      "source": [
        "from google.colab import drive\n",
        "drive.mount('/content/drive')"
      ],
      "metadata": {
        "colab": {
          "base_uri": "https://localhost:8080/"
        },
        "id": "bIDkLcfCOLXq",
        "outputId": "9d321af2-ada9-4bf7-e73b-4e8fd22944b9"
      },
      "execution_count": null,
      "outputs": [
        {
          "output_type": "stream",
          "name": "stdout",
          "text": [
            "Mounted at /content/drive\n"
          ]
        }
      ]
    },
    {
      "cell_type": "code",
      "source": [
        "df_oco2= netCDF4.Dataset('/content/drive/MyDrive/oco2_LtCO2_221201_B11014Ar_230118175544s.SUB.nc4')"
      ],
      "metadata": {
        "id": "3gShKNIzy1Bt"
      },
      "execution_count": null,
      "outputs": []
    },
    {
      "cell_type": "markdown",
      "source": [
        "### **Data Retrieval and Cleaning**"
      ],
      "metadata": {
        "id": "b7KxIxE76B8Q"
      }
    },
    {
      "cell_type": "markdown",
      "source": [
        "Below is the code for retrieving and cleaning data of a single day (2022-12-01).\n",
        "Model selection, training and testing has further been performed on this same\n",
        "data."
      ],
      "metadata": {
        "id": "REXYjVAn61LJ"
      }
    },
    {
      "cell_type": "code",
      "source": [
        "x = list(df_oco2.variables.keys())"
      ],
      "metadata": {
        "id": "qeeFiV_izwom"
      },
      "execution_count": null,
      "outputs": []
    },
    {
      "cell_type": "code",
      "source": [
        "df_xco2 = pd.DataFrame(columns=[x])"
      ],
      "metadata": {
        "id": "FyCuRp5a8GS5"
      },
      "execution_count": null,
      "outputs": []
    },
    {
      "cell_type": "code",
      "source": [
        "df_xco2[\"xco2\"]= df_oco2[\"xco2\"][:]\n",
        "df_xco2[\"dateTime\"]= df_oco2[\"time\"][:]\n",
        "df_xco2[\"latitude\"]= df_oco2[\"latitude\"][:]\n",
        "df_xco2[\"longitude\"]= df_oco2[\"longitude\"][:]\n",
        "df_xco2[\"xco2_quality_flag\"]= df_oco2[\"xco2_quality_flag\"][:]\n",
        "\n",
        "df_xco2[\"time\"]= df_oco2[\"time\"][:]\n",
        "\n",
        "df_xco2[\"date\"]= df_oco2[\"date\"][:]\n",
        "df_xco2[\"solar_zenith_angle\"]= df_oco2[\"solar_zenith_angle\"][:]\n",
        "df_xco2[\"sensor_zenith_angle\"]= df_oco2[\"sensor_zenith_angle\"][:]\n",
        "\n",
        "df_xco2[\"xco2_qf_bitflag\"]= df_oco2[\"xco2_qf_bitflag\"][:]\n",
        "df_xco2[\"vertex_latitude\"]= df_oco2[\"vertex_latitude\"][:]\n",
        "df_xco2[\"vertex_longitude\"]= df_oco2[\"vertex_longitude\"][:]\n",
        "\n",
        "df_xco2[\"xco2\"]= df_oco2[\"xco2\"][:]\n",
        "df_xco2[\"xco2_uncertainty\"]= df_oco2[\"xco2_uncertainty\"][:]\n",
        "df_xco2[\"xco2_apriori\"]= df_oco2[\"xco2_apriori\"][:]\n",
        "df_xco2[\"pressure_levels\"]= df_oco2[\"pressure_levels\"][:]\n",
        "df_xco2[\"co2_profile_apriori\"]= df_oco2[\"co2_profile_apriori\"][:]\n",
        "\n",
        "df_xco2[\"xco2_averaging_kernel\"]= df_oco2[\"xco2_averaging_kernel\"][:]\n",
        "df_xco2[\"pressure_weight\"]= df_oco2[\"pressure_weight\"][:]"
      ],
      "metadata": {
        "id": "qZrXuipc5cKe"
      },
      "execution_count": null,
      "outputs": []
    },
    {
      "cell_type": "code",
      "source": [
        "df_xco2.head()"
      ],
      "metadata": {
        "colab": {
          "base_uri": "https://localhost:8080/",
          "height": 299
        },
        "id": "k1GhoYJT7d9i",
        "outputId": "7a38c74d-627f-467e-9d87-20f43a9dd30d"
      },
      "execution_count": null,
      "outputs": [
        {
          "output_type": "execute_result",
          "data": {
            "text/plain": [
              "  sounding_id_idx   longitude   latitude          time epoch_dimension  \\\n",
              "0             NaN -151.261093 -44.004879  1.669853e+09             NaN   \n",
              "1             NaN -151.278000 -44.009266  1.669853e+09             NaN   \n",
              "2             NaN -151.294983 -44.013577  1.669853e+09             NaN   \n",
              "3             NaN -151.312042 -44.017807  1.669853e+09             NaN   \n",
              "4             NaN -151.199692 -43.967854  1.669853e+09             NaN   \n",
              "\n",
              "  sounding_id levels bands vertices footprints  ... vertex_latitude  \\\n",
              "0         NaN    NaN   NaN      NaN        NaN  ...      -44.011852   \n",
              "1         NaN    NaN   NaN      NaN        NaN  ...      -44.016235   \n",
              "2         NaN    NaN   NaN      NaN        NaN  ...      -44.020569   \n",
              "3         NaN    NaN   NaN      NaN        NaN  ...      -44.024632   \n",
              "4         NaN    NaN   NaN      NaN        NaN  ...      -43.974728   \n",
              "\n",
              "  vertex_longitude        xco2 xco2_uncertainty xco2_apriori pressure_levels  \\\n",
              "0      -151.250046  414.994141         0.506680   415.296143        0.100589   \n",
              "1      -151.266953  414.728851         0.515175   415.295959        0.100534   \n",
              "2      -151.284027  414.877869         0.523403   415.295837        0.100541   \n",
              "3      -151.300629  415.276428         0.518690   415.295654        0.100628   \n",
              "4      -151.188400  415.028595         0.515234   415.296936        0.100596   \n",
              "\n",
              "  co2_profile_apriori xco2_averaging_kernel pressure_weight      dateTime  \n",
              "0          404.134430              0.325984        0.026456  1.669853e+09  \n",
              "1          404.134705              0.327744        0.026456  1.669853e+09  \n",
              "2          404.135010              0.330715        0.026456  1.669853e+09  \n",
              "3          404.135254              0.327138        0.026456  1.669853e+09  \n",
              "4          404.130402              0.323964        0.026456  1.669853e+09  \n",
              "\n",
              "[5 rows x 28 columns]"
            ],
            "text/html": [
              "\n",
              "  <div id=\"df-3d3c5936-70b3-4f71-85a6-b8682928aa1f\">\n",
              "    <div class=\"colab-df-container\">\n",
              "      <div>\n",
              "<style scoped>\n",
              "    .dataframe tbody tr th:only-of-type {\n",
              "        vertical-align: middle;\n",
              "    }\n",
              "\n",
              "    .dataframe tbody tr th {\n",
              "        vertical-align: top;\n",
              "    }\n",
              "\n",
              "    .dataframe thead tr th {\n",
              "        text-align: left;\n",
              "    }\n",
              "</style>\n",
              "<table border=\"1\" class=\"dataframe\">\n",
              "  <thead>\n",
              "    <tr>\n",
              "      <th></th>\n",
              "      <th>sounding_id_idx</th>\n",
              "      <th>longitude</th>\n",
              "      <th>latitude</th>\n",
              "      <th>time</th>\n",
              "      <th>epoch_dimension</th>\n",
              "      <th>sounding_id</th>\n",
              "      <th>levels</th>\n",
              "      <th>bands</th>\n",
              "      <th>vertices</th>\n",
              "      <th>footprints</th>\n",
              "      <th>...</th>\n",
              "      <th>vertex_latitude</th>\n",
              "      <th>vertex_longitude</th>\n",
              "      <th>xco2</th>\n",
              "      <th>xco2_uncertainty</th>\n",
              "      <th>xco2_apriori</th>\n",
              "      <th>pressure_levels</th>\n",
              "      <th>co2_profile_apriori</th>\n",
              "      <th>xco2_averaging_kernel</th>\n",
              "      <th>pressure_weight</th>\n",
              "      <th>dateTime</th>\n",
              "    </tr>\n",
              "  </thead>\n",
              "  <tbody>\n",
              "    <tr>\n",
              "      <th>0</th>\n",
              "      <td>NaN</td>\n",
              "      <td>-151.261093</td>\n",
              "      <td>-44.004879</td>\n",
              "      <td>1.669853e+09</td>\n",
              "      <td>NaN</td>\n",
              "      <td>NaN</td>\n",
              "      <td>NaN</td>\n",
              "      <td>NaN</td>\n",
              "      <td>NaN</td>\n",
              "      <td>NaN</td>\n",
              "      <td>...</td>\n",
              "      <td>-44.011852</td>\n",
              "      <td>-151.250046</td>\n",
              "      <td>414.994141</td>\n",
              "      <td>0.506680</td>\n",
              "      <td>415.296143</td>\n",
              "      <td>0.100589</td>\n",
              "      <td>404.134430</td>\n",
              "      <td>0.325984</td>\n",
              "      <td>0.026456</td>\n",
              "      <td>1.669853e+09</td>\n",
              "    </tr>\n",
              "    <tr>\n",
              "      <th>1</th>\n",
              "      <td>NaN</td>\n",
              "      <td>-151.278000</td>\n",
              "      <td>-44.009266</td>\n",
              "      <td>1.669853e+09</td>\n",
              "      <td>NaN</td>\n",
              "      <td>NaN</td>\n",
              "      <td>NaN</td>\n",
              "      <td>NaN</td>\n",
              "      <td>NaN</td>\n",
              "      <td>NaN</td>\n",
              "      <td>...</td>\n",
              "      <td>-44.016235</td>\n",
              "      <td>-151.266953</td>\n",
              "      <td>414.728851</td>\n",
              "      <td>0.515175</td>\n",
              "      <td>415.295959</td>\n",
              "      <td>0.100534</td>\n",
              "      <td>404.134705</td>\n",
              "      <td>0.327744</td>\n",
              "      <td>0.026456</td>\n",
              "      <td>1.669853e+09</td>\n",
              "    </tr>\n",
              "    <tr>\n",
              "      <th>2</th>\n",
              "      <td>NaN</td>\n",
              "      <td>-151.294983</td>\n",
              "      <td>-44.013577</td>\n",
              "      <td>1.669853e+09</td>\n",
              "      <td>NaN</td>\n",
              "      <td>NaN</td>\n",
              "      <td>NaN</td>\n",
              "      <td>NaN</td>\n",
              "      <td>NaN</td>\n",
              "      <td>NaN</td>\n",
              "      <td>...</td>\n",
              "      <td>-44.020569</td>\n",
              "      <td>-151.284027</td>\n",
              "      <td>414.877869</td>\n",
              "      <td>0.523403</td>\n",
              "      <td>415.295837</td>\n",
              "      <td>0.100541</td>\n",
              "      <td>404.135010</td>\n",
              "      <td>0.330715</td>\n",
              "      <td>0.026456</td>\n",
              "      <td>1.669853e+09</td>\n",
              "    </tr>\n",
              "    <tr>\n",
              "      <th>3</th>\n",
              "      <td>NaN</td>\n",
              "      <td>-151.312042</td>\n",
              "      <td>-44.017807</td>\n",
              "      <td>1.669853e+09</td>\n",
              "      <td>NaN</td>\n",
              "      <td>NaN</td>\n",
              "      <td>NaN</td>\n",
              "      <td>NaN</td>\n",
              "      <td>NaN</td>\n",
              "      <td>NaN</td>\n",
              "      <td>...</td>\n",
              "      <td>-44.024632</td>\n",
              "      <td>-151.300629</td>\n",
              "      <td>415.276428</td>\n",
              "      <td>0.518690</td>\n",
              "      <td>415.295654</td>\n",
              "      <td>0.100628</td>\n",
              "      <td>404.135254</td>\n",
              "      <td>0.327138</td>\n",
              "      <td>0.026456</td>\n",
              "      <td>1.669853e+09</td>\n",
              "    </tr>\n",
              "    <tr>\n",
              "      <th>4</th>\n",
              "      <td>NaN</td>\n",
              "      <td>-151.199692</td>\n",
              "      <td>-43.967854</td>\n",
              "      <td>1.669853e+09</td>\n",
              "      <td>NaN</td>\n",
              "      <td>NaN</td>\n",
              "      <td>NaN</td>\n",
              "      <td>NaN</td>\n",
              "      <td>NaN</td>\n",
              "      <td>NaN</td>\n",
              "      <td>...</td>\n",
              "      <td>-43.974728</td>\n",
              "      <td>-151.188400</td>\n",
              "      <td>415.028595</td>\n",
              "      <td>0.515234</td>\n",
              "      <td>415.296936</td>\n",
              "      <td>0.100596</td>\n",
              "      <td>404.130402</td>\n",
              "      <td>0.323964</td>\n",
              "      <td>0.026456</td>\n",
              "      <td>1.669853e+09</td>\n",
              "    </tr>\n",
              "  </tbody>\n",
              "</table>\n",
              "<p>5 rows × 28 columns</p>\n",
              "</div>\n",
              "      <button class=\"colab-df-convert\" onclick=\"convertToInteractive('df-3d3c5936-70b3-4f71-85a6-b8682928aa1f')\"\n",
              "              title=\"Convert this dataframe to an interactive table.\"\n",
              "              style=\"display:none;\">\n",
              "        \n",
              "  <svg xmlns=\"http://www.w3.org/2000/svg\" height=\"24px\"viewBox=\"0 0 24 24\"\n",
              "       width=\"24px\">\n",
              "    <path d=\"M0 0h24v24H0V0z\" fill=\"none\"/>\n",
              "    <path d=\"M18.56 5.44l.94 2.06.94-2.06 2.06-.94-2.06-.94-.94-2.06-.94 2.06-2.06.94zm-11 1L8.5 8.5l.94-2.06 2.06-.94-2.06-.94L8.5 2.5l-.94 2.06-2.06.94zm10 10l.94 2.06.94-2.06 2.06-.94-2.06-.94-.94-2.06-.94 2.06-2.06.94z\"/><path d=\"M17.41 7.96l-1.37-1.37c-.4-.4-.92-.59-1.43-.59-.52 0-1.04.2-1.43.59L10.3 9.45l-7.72 7.72c-.78.78-.78 2.05 0 2.83L4 21.41c.39.39.9.59 1.41.59.51 0 1.02-.2 1.41-.59l7.78-7.78 2.81-2.81c.8-.78.8-2.07 0-2.86zM5.41 20L4 18.59l7.72-7.72 1.47 1.35L5.41 20z\"/>\n",
              "  </svg>\n",
              "      </button>\n",
              "      \n",
              "  <style>\n",
              "    .colab-df-container {\n",
              "      display:flex;\n",
              "      flex-wrap:wrap;\n",
              "      gap: 12px;\n",
              "    }\n",
              "\n",
              "    .colab-df-convert {\n",
              "      background-color: #E8F0FE;\n",
              "      border: none;\n",
              "      border-radius: 50%;\n",
              "      cursor: pointer;\n",
              "      display: none;\n",
              "      fill: #1967D2;\n",
              "      height: 32px;\n",
              "      padding: 0 0 0 0;\n",
              "      width: 32px;\n",
              "    }\n",
              "\n",
              "    .colab-df-convert:hover {\n",
              "      background-color: #E2EBFA;\n",
              "      box-shadow: 0px 1px 2px rgba(60, 64, 67, 0.3), 0px 1px 3px 1px rgba(60, 64, 67, 0.15);\n",
              "      fill: #174EA6;\n",
              "    }\n",
              "\n",
              "    [theme=dark] .colab-df-convert {\n",
              "      background-color: #3B4455;\n",
              "      fill: #D2E3FC;\n",
              "    }\n",
              "\n",
              "    [theme=dark] .colab-df-convert:hover {\n",
              "      background-color: #434B5C;\n",
              "      box-shadow: 0px 1px 3px 1px rgba(0, 0, 0, 0.15);\n",
              "      filter: drop-shadow(0px 1px 2px rgba(0, 0, 0, 0.3));\n",
              "      fill: #FFFFFF;\n",
              "    }\n",
              "  </style>\n",
              "\n",
              "      <script>\n",
              "        const buttonEl =\n",
              "          document.querySelector('#df-3d3c5936-70b3-4f71-85a6-b8682928aa1f button.colab-df-convert');\n",
              "        buttonEl.style.display =\n",
              "          google.colab.kernel.accessAllowed ? 'block' : 'none';\n",
              "\n",
              "        async function convertToInteractive(key) {\n",
              "          const element = document.querySelector('#df-3d3c5936-70b3-4f71-85a6-b8682928aa1f');\n",
              "          const dataTable =\n",
              "            await google.colab.kernel.invokeFunction('convertToInteractive',\n",
              "                                                     [key], {});\n",
              "          if (!dataTable) return;\n",
              "\n",
              "          const docLinkHtml = 'Like what you see? Visit the ' +\n",
              "            '<a target=\"_blank\" href=https://colab.research.google.com/notebooks/data_table.ipynb>data table notebook</a>'\n",
              "            + ' to learn more about interactive tables.';\n",
              "          element.innerHTML = '';\n",
              "          dataTable['output_type'] = 'display_data';\n",
              "          await google.colab.output.renderOutput(dataTable, element);\n",
              "          const docLink = document.createElement('div');\n",
              "          docLink.innerHTML = docLinkHtml;\n",
              "          element.appendChild(docLink);\n",
              "        }\n",
              "      </script>\n",
              "    </div>\n",
              "  </div>\n",
              "  "
            ]
          },
          "metadata": {},
          "execution_count": 20
        }
      ]
    },
    {
      "cell_type": "code",
      "source": [
        "df_xco2.isnull().sum()"
      ],
      "metadata": {
        "id": "nkXLXMzy6sya",
        "colab": {
          "base_uri": "https://localhost:8080/"
        },
        "outputId": "6e61e646-8163-4880-9495-4bc6bd4b6567"
      },
      "execution_count": null,
      "outputs": [
        {
          "output_type": "execute_result",
          "data": {
            "text/plain": [
              "sounding_id_idx           154511\n",
              "longitude                      0\n",
              "latitude                       0\n",
              "time                           0\n",
              "epoch_dimension           154511\n",
              "sounding_id               154511\n",
              "levels                    154511\n",
              "bands                     154511\n",
              "vertices                  154511\n",
              "footprints                154511\n",
              "date                           0\n",
              "solar_zenith_angle             0\n",
              "sensor_zenith_angle            0\n",
              "xco2_quality_flag              0\n",
              "xco2_qf_bitflag            98382\n",
              "xco2_qf_simple_bitflag    154511\n",
              "source_files              154511\n",
              "file_index                154511\n",
              "vertex_latitude                0\n",
              "vertex_longitude               0\n",
              "xco2                           0\n",
              "xco2_uncertainty               0\n",
              "xco2_apriori                   0\n",
              "pressure_levels                0\n",
              "co2_profile_apriori            0\n",
              "xco2_averaging_kernel          0\n",
              "pressure_weight                0\n",
              "dateTime                       0\n",
              "dtype: int64"
            ]
          },
          "metadata": {},
          "execution_count": 21
        }
      ]
    },
    {
      "cell_type": "code",
      "source": [
        "df_xco2.dropna(inplace=True, axis=1)"
      ],
      "metadata": {
        "id": "7ORiUCpH_GaQ"
      },
      "execution_count": null,
      "outputs": []
    },
    {
      "cell_type": "code",
      "source": [
        "df_xco2.info()"
      ],
      "metadata": {
        "colab": {
          "base_uri": "https://localhost:8080/"
        },
        "id": "PL-qyqE-_6mM",
        "outputId": "945199cc-bbeb-4853-ba61-730c6f2906dc"
      },
      "execution_count": null,
      "outputs": [
        {
          "output_type": "stream",
          "name": "stdout",
          "text": [
            "<class 'pandas.core.frame.DataFrame'>\n",
            "RangeIndex: 154511 entries, 0 to 154510\n",
            "Data columns (total 17 columns):\n",
            " #   Column                    Non-Null Count   Dtype  \n",
            "---  ------                    --------------   -----  \n",
            " 0   (longitude,)              154511 non-null  float32\n",
            " 1   (latitude,)               154511 non-null  float32\n",
            " 2   (time,)                   154511 non-null  float64\n",
            " 3   (date,)                   154511 non-null  int16  \n",
            " 4   (solar_zenith_angle,)     154511 non-null  float32\n",
            " 5   (sensor_zenith_angle,)    154511 non-null  float32\n",
            " 6   (xco2_quality_flag,)      154511 non-null  int8   \n",
            " 7   (vertex_latitude,)        154511 non-null  float32\n",
            " 8   (vertex_longitude,)       154511 non-null  float32\n",
            " 9   (xco2,)                   154511 non-null  float32\n",
            " 10  (xco2_uncertainty,)       154511 non-null  float32\n",
            " 11  (xco2_apriori,)           154511 non-null  float32\n",
            " 12  (pressure_levels,)        154511 non-null  float32\n",
            " 13  (co2_profile_apriori,)    154511 non-null  float32\n",
            " 14  (xco2_averaging_kernel,)  154511 non-null  float32\n",
            " 15  (pressure_weight,)        154511 non-null  float32\n",
            " 16  (dateTime,)               154511 non-null  float64\n",
            "dtypes: float32(13), float64(2), int16(1), int8(1)\n",
            "memory usage: 10.5 MB\n"
          ]
        }
      ]
    },
    {
      "cell_type": "code",
      "source": [
        "corr = df_xco2.corr()"
      ],
      "metadata": {
        "id": "AiD1FwpyLmZA"
      },
      "execution_count": null,
      "outputs": []
    },
    {
      "cell_type": "code",
      "source": [
        "plt.figure(figsize=(12,7))\n",
        "sns.heatmap(corr, annot=True, cmap='crest')"
      ],
      "metadata": {
        "colab": {
          "base_uri": "https://localhost:8080/",
          "height": 568
        },
        "id": "0EAXUYs0QUw-",
        "outputId": "3f14c9fa-1412-4ba6-ef34-fabd96818e4e"
      },
      "execution_count": null,
      "outputs": [
        {
          "output_type": "execute_result",
          "data": {
            "text/plain": [
              "<matplotlib.axes._subplots.AxesSubplot at 0x7f700114a880>"
            ]
          },
          "metadata": {},
          "execution_count": 27
        },
        {
          "output_type": "display_data",
          "data": {
            "text/plain": [
              "<Figure size 864x504 with 2 Axes>"
            ],
            "image/png": "[encoded data removed]"
          },
          "metadata": {
            "needs_background": "light"
          }
        }
      ]
    },
    {
      "cell_type": "code",
      "source": [
        "df_xco2.drop(['vertex_latitude', 'vertex_longitude', 'xco2_uncertainty', 'pressure_weight', 'sensor_zenith_angle', 'xco2_averaging_kernel'], axis=1, inplace=True)"
      ],
      "metadata": {
        "colab": {
          "base_uri": "https://localhost:8080/"
        },
        "id": "fCGUn5ZFQysr",
        "outputId": "00a1b2a3-e4b1-40dc-cd10-887c72c39e6c"
      },
      "execution_count": null,
      "outputs": [
        {
          "output_type": "stream",
          "name": "stderr",
          "text": [
            "/usr/local/lib/python3.8/dist-packages/pandas/core/generic.py:4150: PerformanceWarning: dropping on a non-lexsorted multi-index without a level parameter may impact performance.\n",
            "  obj = obj._drop_axis(labels, axis, level=level, errors=errors)\n"
          ]
        }
      ]
    },
    {
      "cell_type": "code",
      "source": [
        "df_xco2.drop(['date', 'time'], axis=1, inplace=True)"
      ],
      "metadata": {
        "colab": {
          "base_uri": "https://localhost:8080/"
        },
        "id": "3T8_zvBoSQsV",
        "outputId": "abe95521-75da-40f6-fb8f-3d9c67819a06"
      },
      "execution_count": null,
      "outputs": [
        {
          "output_type": "stream",
          "name": "stderr",
          "text": [
            "/usr/local/lib/python3.8/dist-packages/pandas/core/generic.py:4150: PerformanceWarning: dropping on a non-lexsorted multi-index without a level parameter may impact performance.\n",
            "  obj = obj._drop_axis(labels, axis, level=level, errors=errors)\n"
          ]
        }
      ]
    },
    {
      "cell_type": "code",
      "source": [
        "df_xco2.head()"
      ],
      "metadata": {
        "colab": {
          "base_uri": "https://localhost:8080/",
          "height": 206
        },
        "id": "k8a9FHzETvAp",
        "outputId": "bba4f1b4-dc5a-438b-e808-86e208f99e1b"
      },
      "execution_count": null,
      "outputs": [
        {
          "output_type": "execute_result",
          "data": {
            "text/plain": [
              "    longitude   latitude solar_zenith_angle xco2_quality_flag        xco2  \\\n",
              "0 -151.261093 -44.004879          34.215626                 0  414.994141   \n",
              "1 -151.278000 -44.009266          34.207405                 0  414.728851   \n",
              "2 -151.294983 -44.013577          34.199100                 0  414.877869   \n",
              "3 -151.312042 -44.017807          34.190716                 0  415.276428   \n",
              "4 -151.199692 -43.967854          34.235783                 0  415.028595   \n",
              "\n",
              "  xco2_apriori pressure_levels co2_profile_apriori      dateTime  \n",
              "0   415.296143        0.100589          404.134430  1.669853e+09  \n",
              "1   415.295959        0.100534          404.134705  1.669853e+09  \n",
              "2   415.295837        0.100541          404.135010  1.669853e+09  \n",
              "3   415.295654        0.100628          404.135254  1.669853e+09  \n",
              "4   415.296936        0.100596          404.130402  1.669853e+09  "
            ],
            "text/html": [
              "\n",
              "  <div id=\"df-6f2aa529-2d0b-40da-8bb3-5d2d8e8da62f\">\n",
              "    <div class=\"colab-df-container\">\n",
              "      <div>\n",
              "<style scoped>\n",
              "    .dataframe tbody tr th:only-of-type {\n",
              "        vertical-align: middle;\n",
              "    }\n",
              "\n",
              "    .dataframe tbody tr th {\n",
              "        vertical-align: top;\n",
              "    }\n",
              "\n",
              "    .dataframe thead tr th {\n",
              "        text-align: left;\n",
              "    }\n",
              "</style>\n",
              "<table border=\"1\" class=\"dataframe\">\n",
              "  <thead>\n",
              "    <tr>\n",
              "      <th></th>\n",
              "      <th>longitude</th>\n",
              "      <th>latitude</th>\n",
              "      <th>solar_zenith_angle</th>\n",
              "      <th>xco2_quality_flag</th>\n",
              "      <th>xco2</th>\n",
              "      <th>xco2_apriori</th>\n",
              "      <th>pressure_levels</th>\n",
              "      <th>co2_profile_apriori</th>\n",
              "      <th>dateTime</th>\n",
              "    </tr>\n",
              "  </thead>\n",
              "  <tbody>\n",
              "    <tr>\n",
              "      <th>0</th>\n",
              "      <td>-151.261093</td>\n",
              "      <td>-44.004879</td>\n",
              "      <td>34.215626</td>\n",
              "      <td>0</td>\n",
              "      <td>414.994141</td>\n",
              "      <td>415.296143</td>\n",
              "      <td>0.100589</td>\n",
              "      <td>404.134430</td>\n",
              "      <td>1.669853e+09</td>\n",
              "    </tr>\n",
              "    <tr>\n",
              "      <th>1</th>\n",
              "      <td>-151.278000</td>\n",
              "      <td>-44.009266</td>\n",
              "      <td>34.207405</td>\n",
              "      <td>0</td>\n",
              "      <td>414.728851</td>\n",
              "      <td>415.295959</td>\n",
              "      <td>0.100534</td>\n",
              "      <td>404.134705</td>\n",
              "      <td>1.669853e+09</td>\n",
              "    </tr>\n",
              "    <tr>\n",
              "      <th>2</th>\n",
              "      <td>-151.294983</td>\n",
              "      <td>-44.013577</td>\n",
              "      <td>34.199100</td>\n",
              "      <td>0</td>\n",
              "      <td>414.877869</td>\n",
              "      <td>415.295837</td>\n",
              "      <td>0.100541</td>\n",
              "      <td>404.135010</td>\n",
              "      <td>1.669853e+09</td>\n",
              "    </tr>\n",
              "    <tr>\n",
              "      <th>3</th>\n",
              "      <td>-151.312042</td>\n",
              "      <td>-44.017807</td>\n",
              "      <td>34.190716</td>\n",
              "      <td>0</td>\n",
              "      <td>415.276428</td>\n",
              "      <td>415.295654</td>\n",
              "      <td>0.100628</td>\n",
              "      <td>404.135254</td>\n",
              "      <td>1.669853e+09</td>\n",
              "    </tr>\n",
              "    <tr>\n",
              "      <th>4</th>\n",
              "      <td>-151.199692</td>\n",
              "      <td>-43.967854</td>\n",
              "      <td>34.235783</td>\n",
              "      <td>0</td>\n",
              "      <td>415.028595</td>\n",
              "      <td>415.296936</td>\n",
              "      <td>0.100596</td>\n",
              "      <td>404.130402</td>\n",
              "      <td>1.669853e+09</td>\n",
              "    </tr>\n",
              "  </tbody>\n",
              "</table>\n",
              "</div>\n",
              "      <button class=\"colab-df-convert\" onclick=\"convertToInteractive('df-6f2aa529-2d0b-40da-8bb3-5d2d8e8da62f')\"\n",
              "              title=\"Convert this dataframe to an interactive table.\"\n",
              "              style=\"display:none;\">\n",
              "        \n",
              "  <svg xmlns=\"http://www.w3.org/2000/svg\" height=\"24px\"viewBox=\"0 0 24 24\"\n",
              "       width=\"24px\">\n",
              "    <path d=\"M0 0h24v24H0V0z\" fill=\"none\"/>\n",
              "    <path d=\"M18.56 5.44l.94 2.06.94-2.06 2.06-.94-2.06-.94-.94-2.06-.94 2.06-2.06.94zm-11 1L8.5 8.5l.94-2.06 2.06-.94-2.06-.94L8.5 2.5l-.94 2.06-2.06.94zm10 10l.94 2.06.94-2.06 2.06-.94-2.06-.94-.94-2.06-.94 2.06-2.06.94z\"/><path d=\"M17.41 7.96l-1.37-1.37c-.4-.4-.92-.59-1.43-.59-.52 0-1.04.2-1.43.59L10.3 9.45l-7.72 7.72c-.78.78-.78 2.05 0 2.83L4 21.41c.39.39.9.59 1.41.59.51 0 1.02-.2 1.41-.59l7.78-7.78 2.81-2.81c.8-.78.8-2.07 0-2.86zM5.41 20L4 18.59l7.72-7.72 1.47 1.35L5.41 20z\"/>\n",
              "  </svg>\n",
              "      </button>\n",
              "      \n",
              "  <style>\n",
              "    .colab-df-container {\n",
              "      display:flex;\n",
              "      flex-wrap:wrap;\n",
              "      gap: 12px;\n",
              "    }\n",
              "\n",
              "    .colab-df-convert {\n",
              "      background-color: #E8F0FE;\n",
              "      border: none;\n",
              "      border-radius: 50%;\n",
              "      cursor: pointer;\n",
              "      display: none;\n",
              "      fill: #1967D2;\n",
              "      height: 32px;\n",
              "      padding: 0 0 0 0;\n",
              "      width: 32px;\n",
              "    }\n",
              "\n",
              "    .colab-df-convert:hover {\n",
              "      background-color: #E2EBFA;\n",
              "      box-shadow: 0px 1px 2px rgba(60, 64, 67, 0.3), 0px 1px 3px 1px rgba(60, 64, 67, 0.15);\n",
              "      fill: #174EA6;\n",
              "    }\n",
              "\n",
              "    [theme=dark] .colab-df-convert {\n",
              "      background-color: #3B4455;\n",
              "      fill: #D2E3FC;\n",
              "    }\n",
              "\n",
              "    [theme=dark] .colab-df-convert:hover {\n",
              "      background-color: #434B5C;\n",
              "      box-shadow: 0px 1px 3px 1px rgba(0, 0, 0, 0.15);\n",
              "      filter: drop-shadow(0px 1px 2px rgba(0, 0, 0, 0.3));\n",
              "      fill: #FFFFFF;\n",
              "    }\n",
              "  </style>\n",
              "\n",
              "      <script>\n",
              "        const buttonEl =\n",
              "          document.querySelector('#df-6f2aa529-2d0b-40da-8bb3-5d2d8e8da62f button.colab-df-convert');\n",
              "        buttonEl.style.display =\n",
              "          google.colab.kernel.accessAllowed ? 'block' : 'none';\n",
              "\n",
              "        async function convertToInteractive(key) {\n",
              "          const element = document.querySelector('#df-6f2aa529-2d0b-40da-8bb3-5d2d8e8da62f');\n",
              "          const dataTable =\n",
              "            await google.colab.kernel.invokeFunction('convertToInteractive',\n",
              "                                                     [key], {});\n",
              "          if (!dataTable) return;\n",
              "\n",
              "          const docLinkHtml = 'Like what you see? Visit the ' +\n",
              "            '<a target=\"_blank\" href=https://colab.research.google.com/notebooks/data_table.ipynb>data table notebook</a>'\n",
              "            + ' to learn more about interactive tables.';\n",
              "          element.innerHTML = '';\n",
              "          dataTable['output_type'] = 'display_data';\n",
              "          await google.colab.output.renderOutput(dataTable, element);\n",
              "          const docLink = document.createElement('div');\n",
              "          docLink.innerHTML = docLinkHtml;\n",
              "          element.appendChild(docLink);\n",
              "        }\n",
              "      </script>\n",
              "    </div>\n",
              "  </div>\n",
              "  "
            ]
          },
          "metadata": {},
          "execution_count": 33
        }
      ]
    },
    {
      "cell_type": "code",
      "source": [
        "df_xco2[\"xco2_quality_flag\"].value_counts()"
      ],
      "metadata": {
        "colab": {
          "base_uri": "https://localhost:8080/"
        },
        "id": "jDM255erUB6H",
        "outputId": "2c475cf1-a860-423f-e2de-4711675d9512"
      },
      "execution_count": null,
      "outputs": [
        {
          "output_type": "execute_result",
          "data": {
            "text/plain": [
              "(xco2_quality_flag,)\n",
              "0                       97329\n",
              "1                       57182\n",
              "dtype: int64"
            ]
          },
          "metadata": {},
          "execution_count": 34
        }
      ]
    },
    {
      "cell_type": "markdown",
      "source": [
        "### **Model Selection and Training**"
      ],
      "metadata": {
        "id": "m_LWqc7-6XKF"
      }
    },
    {
      "cell_type": "code",
      "source": [
        "from sklearn.model_selection import train_test_split\n",
        "\n",
        "train, test = train_test_split(df_xco2, test_size=0.2, random_state=42)"
      ],
      "metadata": {
        "id": "1LCye6BJWWOX"
      },
      "execution_count": null,
      "outputs": []
    },
    {
      "cell_type": "code",
      "source": [
        "train.head()"
      ],
      "metadata": {
        "colab": {
          "base_uri": "https://localhost:8080/",
          "height": 206
        },
        "id": "1MsWNOJZZDLR",
        "outputId": "c933d2f1-134f-4c4d-c234-5aee60d28ac0"
      },
      "execution_count": null,
      "outputs": [
        {
          "output_type": "execute_result",
          "data": {
            "text/plain": [
              "        longitude   latitude solar_zenith_angle xco2_quality_flag        xco2  \\\n",
              "1588  -156.032257 -24.753790          26.037994                 0  415.547729   \n",
              "66186   43.241714  26.520321          51.943085                 0  415.925720   \n",
              "88721  -11.702212  41.062317          64.481834                 1  417.855560   \n",
              "71079   25.563362  10.341282          40.596905                 0  416.648804   \n",
              "26135  145.751877  13.712364          41.688957                 1  418.721527   \n",
              "\n",
              "      xco2_apriori pressure_levels co2_profile_apriori      dateTime  \n",
              "1588    415.779846        0.101376          404.054321  1.669853e+09  \n",
              "66186   419.156067        0.092392          405.117310  1.669890e+09  \n",
              "88721   422.858124        0.101379          408.175598  1.669902e+09  \n",
              "71079   417.827881        0.095572          407.611908  1.669895e+09  \n",
              "26135   417.890289        0.099340          403.455322  1.669866e+09  "
            ],
            "text/html": [
              "\n",
              "  <div id=\"df-87d2ee4e-a267-4c6e-a521-d4bc45de84ec\">\n",
              "    <div class=\"colab-df-container\">\n",
              "      <div>\n",
              "<style scoped>\n",
              "    .dataframe tbody tr th:only-of-type {\n",
              "        vertical-align: middle;\n",
              "    }\n",
              "\n",
              "    .dataframe tbody tr th {\n",
              "        vertical-align: top;\n",
              "    }\n",
              "\n",
              "    .dataframe thead tr th {\n",
              "        text-align: left;\n",
              "    }\n",
              "</style>\n",
              "<table border=\"1\" class=\"dataframe\">\n",
              "  <thead>\n",
              "    <tr>\n",
              "      <th></th>\n",
              "      <th>longitude</th>\n",
              "      <th>latitude</th>\n",
              "      <th>solar_zenith_angle</th>\n",
              "      <th>xco2_quality_flag</th>\n",
              "      <th>xco2</th>\n",
              "      <th>xco2_apriori</th>\n",
              "      <th>pressure_levels</th>\n",
              "      <th>co2_profile_apriori</th>\n",
              "      <th>dateTime</th>\n",
              "    </tr>\n",
              "  </thead>\n",
              "  <tbody>\n",
              "    <tr>\n",
              "      <th>1588</th>\n",
              "      <td>-156.032257</td>\n",
              "      <td>-24.753790</td>\n",
              "      <td>26.037994</td>\n",
              "      <td>0</td>\n",
              "      <td>415.547729</td>\n",
              "      <td>415.779846</td>\n",
              "      <td>0.101376</td>\n",
              "      <td>404.054321</td>\n",
              "      <td>1.669853e+09</td>\n",
              "    </tr>\n",
              "    <tr>\n",
              "      <th>66186</th>\n",
              "      <td>43.241714</td>\n",
              "      <td>26.520321</td>\n",
              "      <td>51.943085</td>\n",
              "      <td>0</td>\n",
              "      <td>415.925720</td>\n",
              "      <td>419.156067</td>\n",
              "      <td>0.092392</td>\n",
              "      <td>405.117310</td>\n",
              "      <td>1.669890e+09</td>\n",
              "    </tr>\n",
              "    <tr>\n",
              "      <th>88721</th>\n",
              "      <td>-11.702212</td>\n",
              "      <td>41.062317</td>\n",
              "      <td>64.481834</td>\n",
              "      <td>1</td>\n",
              "      <td>417.855560</td>\n",
              "      <td>422.858124</td>\n",
              "      <td>0.101379</td>\n",
              "      <td>408.175598</td>\n",
              "      <td>1.669902e+09</td>\n",
              "    </tr>\n",
              "    <tr>\n",
              "      <th>71079</th>\n",
              "      <td>25.563362</td>\n",
              "      <td>10.341282</td>\n",
              "      <td>40.596905</td>\n",
              "      <td>0</td>\n",
              "      <td>416.648804</td>\n",
              "      <td>417.827881</td>\n",
              "      <td>0.095572</td>\n",
              "      <td>407.611908</td>\n",
              "      <td>1.669895e+09</td>\n",
              "    </tr>\n",
              "    <tr>\n",
              "      <th>26135</th>\n",
              "      <td>145.751877</td>\n",
              "      <td>13.712364</td>\n",
              "      <td>41.688957</td>\n",
              "      <td>1</td>\n",
              "      <td>418.721527</td>\n",
              "      <td>417.890289</td>\n",
              "      <td>0.099340</td>\n",
              "      <td>403.455322</td>\n",
              "      <td>1.669866e+09</td>\n",
              "    </tr>\n",
              "  </tbody>\n",
              "</table>\n",
              "</div>\n",
              "      <button class=\"colab-df-convert\" onclick=\"convertToInteractive('df-87d2ee4e-a267-4c6e-a521-d4bc45de84ec')\"\n",
              "              title=\"Convert this dataframe to an interactive table.\"\n",
              "              style=\"display:none;\">\n",
              "        \n",
              "  <svg xmlns=\"http://www.w3.org/2000/svg\" height=\"24px\"viewBox=\"0 0 24 24\"\n",
              "       width=\"24px\">\n",
              "    <path d=\"M0 0h24v24H0V0z\" fill=\"none\"/>\n",
              "    <path d=\"M18.56 5.44l.94 2.06.94-2.06 2.06-.94-2.06-.94-.94-2.06-.94 2.06-2.06.94zm-11 1L8.5 8.5l.94-2.06 2.06-.94-2.06-.94L8.5 2.5l-.94 2.06-2.06.94zm10 10l.94 2.06.94-2.06 2.06-.94-2.06-.94-.94-2.06-.94 2.06-2.06.94z\"/><path d=\"M17.41 7.96l-1.37-1.37c-.4-.4-.92-.59-1.43-.59-.52 0-1.04.2-1.43.59L10.3 9.45l-7.72 7.72c-.78.78-.78 2.05 0 2.83L4 21.41c.39.39.9.59 1.41.59.51 0 1.02-.2 1.41-.59l7.78-7.78 2.81-2.81c.8-.78.8-2.07 0-2.86zM5.41 20L4 18.59l7.72-7.72 1.47 1.35L5.41 20z\"/>\n",
              "  </svg>\n",
              "      </button>\n",
              "      \n",
              "  <style>\n",
              "    .colab-df-container {\n",
              "      display:flex;\n",
              "      flex-wrap:wrap;\n",
              "      gap: 12px;\n",
              "    }\n",
              "\n",
              "    .colab-df-convert {\n",
              "      background-color: #E8F0FE;\n",
              "      border: none;\n",
              "      border-radius: 50%;\n",
              "      cursor: pointer;\n",
              "      display: none;\n",
              "      fill: #1967D2;\n",
              "      height: 32px;\n",
              "      padding: 0 0 0 0;\n",
              "      width: 32px;\n",
              "    }\n",
              "\n",
              "    .colab-df-convert:hover {\n",
              "      background-color: #E2EBFA;\n",
              "      box-shadow: 0px 1px 2px rgba(60, 64, 67, 0.3), 0px 1px 3px 1px rgba(60, 64, 67, 0.15);\n",
              "      fill: #174EA6;\n",
              "    }\n",
              "\n",
              "    [theme=dark] .colab-df-convert {\n",
              "      background-color: #3B4455;\n",
              "      fill: #D2E3FC;\n",
              "    }\n",
              "\n",
              "    [theme=dark] .colab-df-convert:hover {\n",
              "      background-color: #434B5C;\n",
              "      box-shadow: 0px 1px 3px 1px rgba(0, 0, 0, 0.15);\n",
              "      filter: drop-shadow(0px 1px 2px rgba(0, 0, 0, 0.3));\n",
              "      fill: #FFFFFF;\n",
              "    }\n",
              "  </style>\n",
              "\n",
              "      <script>\n",
              "        const buttonEl =\n",
              "          document.querySelector('#df-87d2ee4e-a267-4c6e-a521-d4bc45de84ec button.colab-df-convert');\n",
              "        buttonEl.style.display =\n",
              "          google.colab.kernel.accessAllowed ? 'block' : 'none';\n",
              "\n",
              "        async function convertToInteractive(key) {\n",
              "          const element = document.querySelector('#df-87d2ee4e-a267-4c6e-a521-d4bc45de84ec');\n",
              "          const dataTable =\n",
              "            await google.colab.kernel.invokeFunction('convertToInteractive',\n",
              "                                                     [key], {});\n",
              "          if (!dataTable) return;\n",
              "\n",
              "          const docLinkHtml = 'Like what you see? Visit the ' +\n",
              "            '<a target=\"_blank\" href=https://colab.research.google.com/notebooks/data_table.ipynb>data table notebook</a>'\n",
              "            + ' to learn more about interactive tables.';\n",
              "          element.innerHTML = '';\n",
              "          dataTable['output_type'] = 'display_data';\n",
              "          await google.colab.output.renderOutput(dataTable, element);\n",
              "          const docLink = document.createElement('div');\n",
              "          docLink.innerHTML = docLinkHtml;\n",
              "          element.appendChild(docLink);\n",
              "        }\n",
              "      </script>\n",
              "    </div>\n",
              "  </div>\n",
              "  "
            ]
          },
          "metadata": {},
          "execution_count": 59
        }
      ]
    },
    {
      "cell_type": "code",
      "source": [
        "training_labels = train[\"xco2\"]\n",
        "training_data = train.drop([\"xco2\"], axis=1)"
      ],
      "metadata": {
        "colab": {
          "base_uri": "https://localhost:8080/"
        },
        "id": "9OtFlngFZGXW",
        "outputId": "b551282d-a23e-4f3e-e9b5-951edb6139ed"
      },
      "execution_count": null,
      "outputs": [
        {
          "output_type": "stream",
          "name": "stderr",
          "text": [
            "/usr/local/lib/python3.8/dist-packages/pandas/core/generic.py:4150: PerformanceWarning: dropping on a non-lexsorted multi-index without a level parameter may impact performance.\n",
            "  obj = obj._drop_axis(labels, axis, level=level, errors=errors)\n"
          ]
        }
      ]
    },
    {
      "cell_type": "code",
      "source": [
        "from sklearn.preprocessing import StandardScaler\n",
        "from sklearn.pipeline import Pipeline\n",
        "\n",
        "scale_pipe = Pipeline([\n",
        "    ('scaler', StandardScaler())\n",
        "])\n",
        "\n",
        "training_data_scaled = scale_pipe.fit_transform(training_data)"
      ],
      "metadata": {
        "colab": {
          "base_uri": "https://localhost:8080/"
        },
        "id": "_Wz7PJ4uYQRq",
        "outputId": "2d8b0f4e-cb18-4641-e097-e2528bea97d2"
      },
      "execution_count": null,
      "outputs": [
        {
          "output_type": "stream",
          "name": "stderr",
          "text": [
            "/usr/local/lib/python3.8/dist-packages/sklearn/utils/validation.py:1688: FutureWarning: Feature names only support names that are all strings. Got feature names with dtypes: ['tuple']. An error will be raised in 1.2.\n",
            "  warnings.warn(\n",
            "/usr/local/lib/python3.8/dist-packages/sklearn/utils/validation.py:1688: FutureWarning: Feature names only support names that are all strings. Got feature names with dtypes: ['tuple']. An error will be raised in 1.2.\n",
            "  warnings.warn(\n"
          ]
        }
      ]
    },
    {
      "cell_type": "code",
      "source": [
        "training_data_scaled.shape"
      ],
      "metadata": {
        "colab": {
          "base_uri": "https://localhost:8080/"
        },
        "id": "DoEi0kJ2YR-i",
        "outputId": "bd24fad0-789d-42e8-9df0-a18a0db1cad1"
      },
      "execution_count": null,
      "outputs": [
        {
          "output_type": "execute_result",
          "data": {
            "text/plain": [
              "(123608, 8)"
            ]
          },
          "metadata": {},
          "execution_count": 68
        }
      ]
    },
    {
      "cell_type": "code",
      "source": [
        "training_labels_scaled = scale_pipe.fit_transform(training_labels)\n",
        "training_labels_scaled"
      ],
      "metadata": {
        "colab": {
          "base_uri": "https://localhost:8080/"
        },
        "id": "h_IpNnU9Z8KC",
        "outputId": "7531835b-e9b9-426a-9cfc-d7ee350175af"
      },
      "execution_count": null,
      "outputs": [
        {
          "output_type": "stream",
          "name": "stderr",
          "text": [
            "/usr/local/lib/python3.8/dist-packages/sklearn/utils/validation.py:1688: FutureWarning: Feature names only support names that are all strings. Got feature names with dtypes: ['tuple']. An error will be raised in 1.2.\n",
            "  warnings.warn(\n",
            "/usr/local/lib/python3.8/dist-packages/sklearn/utils/validation.py:1688: FutureWarning: Feature names only support names that are all strings. Got feature names with dtypes: ['tuple']. An error will be raised in 1.2.\n",
            "  warnings.warn(\n"
          ]
        },
        {
          "output_type": "execute_result",
          "data": {
            "text/plain": [
              "array([[-0.3041092 ],\n",
              "       [-0.13602936],\n",
              "       [ 0.72210604],\n",
              "       ...,\n",
              "       [-0.12160429],\n",
              "       [ 0.06426602],\n",
              "       [-0.24627323]], dtype=float32)"
            ]
          },
          "metadata": {},
          "execution_count": 72
        }
      ]
    },
    {
      "cell_type": "code",
      "source": [
        "from sklearn.ensemble import RandomForestRegressor\n",
        "\n",
        "forest = RandomForestRegressor(random_state=42)\n",
        "forest.fit(training_data_scaled, training_labels_scaled)"
      ],
      "metadata": {
        "colab": {
          "base_uri": "https://localhost:8080/"
        },
        "id": "QBwjDbWVacHw",
        "outputId": "3f2e0b23-ed03-4b5c-a6a9-31a18241f187"
      },
      "execution_count": null,
      "outputs": [
        {
          "output_type": "stream",
          "name": "stdout",
          "text": [
            "CPU times: user 3 µs, sys: 0 ns, total: 3 µs\n",
            "Wall time: 5.72 µs\n"
          ]
        },
        {
          "output_type": "stream",
          "name": "stderr",
          "text": [
            "<ipython-input-93-2564a9ec5c82>:5: DataConversionWarning: A column-vector y was passed when a 1d array was expected. Please change the shape of y to (n_samples,), for example using ravel().\n",
            "  forest.fit(training_data_scaled, training_labels_scaled)\n"
          ]
        },
        {
          "output_type": "execute_result",
          "data": {
            "text/plain": [
              "RandomForestRegressor(random_state=42)"
            ]
          },
          "metadata": {},
          "execution_count": 93
        }
      ]
    },
    {
      "cell_type": "code",
      "source": [
        "training_predictions = forest.predict(training_data_scaled)"
      ],
      "metadata": {
        "id": "OTs1s9aHapLL"
      },
      "execution_count": null,
      "outputs": []
    },
    {
      "cell_type": "code",
      "source": [
        "from sklearn.metrics import mean_squared_error\n",
        "import numpy as np\n",
        "mse = mean_squared_error(training_labels_scaled, training_predictions)\n",
        "rmse = np.sqrt(mse)\n",
        "rmse"
      ],
      "metadata": {
        "colab": {
          "base_uri": "https://localhost:8080/"
        },
        "id": "-c43tJlSbkJe",
        "outputId": "61859bfc-6d41-417e-cb41-7f0cf9486c9b"
      },
      "execution_count": null,
      "outputs": [
        {
          "output_type": "execute_result",
          "data": {
            "text/plain": [
              "0.14386727286443654"
            ]
          },
          "metadata": {},
          "execution_count": 79
        }
      ]
    },
    {
      "cell_type": "code",
      "source": [
        "training_labels_scaled.max()"
      ],
      "metadata": {
        "colab": {
          "base_uri": "https://localhost:8080/"
        },
        "id": "1BVmWINEbtit",
        "outputId": "0fb743a8-0c19-4aed-db53-59a63e4257d9"
      },
      "execution_count": null,
      "outputs": [
        {
          "output_type": "execute_result",
          "data": {
            "text/plain": [
              "9.420556"
            ]
          },
          "metadata": {},
          "execution_count": 80
        }
      ]
    },
    {
      "cell_type": "code",
      "source": [
        "training_labels_scaled.min()"
      ],
      "metadata": {
        "colab": {
          "base_uri": "https://localhost:8080/"
        },
        "id": "3A-dONA5cjqy",
        "outputId": "05a7de3d-968e-4eeb-b4f5-aeac787e848f"
      },
      "execution_count": null,
      "outputs": [
        {
          "output_type": "execute_result",
          "data": {
            "text/plain": [
              "-23.508694"
            ]
          },
          "metadata": {},
          "execution_count": 81
        }
      ]
    },
    {
      "cell_type": "code",
      "source": [
        "training_labels_scaled.std()"
      ],
      "metadata": {
        "colab": {
          "base_uri": "https://localhost:8080/"
        },
        "id": "CEUlmYa0cmPJ",
        "outputId": "0d65ace0-cb5e-411e-80fa-f7845ec2e55e"
      },
      "execution_count": null,
      "outputs": [
        {
          "output_type": "execute_result",
          "data": {
            "text/plain": [
              "0.99999994"
            ]
          },
          "metadata": {},
          "execution_count": 83
        }
      ]
    },
    {
      "cell_type": "markdown",
      "source": [
        "### **Model Testing and Evaluation**"
      ],
      "metadata": {
        "id": "P1V5F44t6iEa"
      }
    },
    {
      "cell_type": "code",
      "source": [
        "testing_labels = test[\"xco2\"]\n",
        "testing_data = test.drop([\"xco2\"], axis=1)"
      ],
      "metadata": {
        "colab": {
          "base_uri": "https://localhost:8080/"
        },
        "id": "wVRMqtAicqMT",
        "outputId": "afa69169-0529-42bb-d22a-376c9aa8558b"
      },
      "execution_count": null,
      "outputs": [
        {
          "output_type": "stream",
          "name": "stderr",
          "text": [
            "/usr/local/lib/python3.8/dist-packages/pandas/core/generic.py:4150: PerformanceWarning: dropping on a non-lexsorted multi-index without a level parameter may impact performance.\n",
            "  obj = obj._drop_axis(labels, axis, level=level, errors=errors)\n"
          ]
        }
      ]
    },
    {
      "cell_type": "code",
      "source": [
        "testing_data_scaled = scale_pipe.fit_transform(testing_data)\n",
        "testing_labels_scaled = scale_pipe.fit_transform(testing_labels)"
      ],
      "metadata": {
        "colab": {
          "base_uri": "https://localhost:8080/"
        },
        "id": "emRTfCHKdOR4",
        "outputId": "28c0fe04-1b7c-4503-d027-b8d087b4171c"
      },
      "execution_count": null,
      "outputs": [
        {
          "output_type": "stream",
          "name": "stderr",
          "text": [
            "/usr/local/lib/python3.8/dist-packages/sklearn/utils/validation.py:1688: FutureWarning: Feature names only support names that are all strings. Got feature names with dtypes: ['tuple']. An error will be raised in 1.2.\n",
            "  warnings.warn(\n",
            "/usr/local/lib/python3.8/dist-packages/sklearn/utils/validation.py:1688: FutureWarning: Feature names only support names that are all strings. Got feature names with dtypes: ['tuple']. An error will be raised in 1.2.\n",
            "  warnings.warn(\n",
            "/usr/local/lib/python3.8/dist-packages/sklearn/utils/validation.py:1688: FutureWarning: Feature names only support names that are all strings. Got feature names with dtypes: ['tuple']. An error will be raised in 1.2.\n",
            "  warnings.warn(\n",
            "/usr/local/lib/python3.8/dist-packages/sklearn/utils/validation.py:1688: FutureWarning: Feature names only support names that are all strings. Got feature names with dtypes: ['tuple']. An error will be raised in 1.2.\n",
            "  warnings.warn(\n"
          ]
        }
      ]
    },
    {
      "cell_type": "code",
      "source": [
        "testing_predictions = forest.predict(testing_data_scaled)"
      ],
      "metadata": {
        "id": "p0nhAUS7dXvS"
      },
      "execution_count": null,
      "outputs": []
    },
    {
      "cell_type": "code",
      "source": [
        "mse = mean_squared_error(testing_labels_scaled, testing_predictions)\n",
        "rmse = np.sqrt(mse)\n",
        "rmse"
      ],
      "metadata": {
        "colab": {
          "base_uri": "https://localhost:8080/"
        },
        "id": "5RVNSKY3dcyx",
        "outputId": "2bf0c6b5-aa6b-45de-cdc7-f7229c6cf609"
      },
      "execution_count": null,
      "outputs": [
        {
          "output_type": "execute_result",
          "data": {
            "text/plain": [
              "0.4734156558242472"
            ]
          },
          "metadata": {},
          "execution_count": 92
        }
      ]
    },
    {
      "cell_type": "markdown",
      "source": [
        "The model evaluation metric chosen is root mean squared error.\n",
        "The rmse on the training data is 0.14386, and on the testing data is 0.47341.\n",
        "Since the rmse on training data is quite lower than that on testing data,\n",
        "the model has slightly overfitted the training data. However, seeing that the\n",
        "rmse on testing data still falls below 0.5, it can be concluded that the chosen\n",
        "model (Random Forest Regressor) is a good model to work on the given data.\n"
      ],
      "metadata": {
        "id": "3oiK49Hh7icH"
      }
    },
    {
      "cell_type": "markdown",
      "source": [
        "### **Code Snippet for extracting data for multiple days**\n",
        "\n"
      ],
      "metadata": {
        "id": "Es3LabVw7YJO"
      }
    },
    {
      "cell_type": "code",
      "source": [
        "x = [\"longitude\",\"latitude\",\"solar_zenith_angle\",\"xco2_quality_flag\",\"xco2\",\"xco2_apriori\",\"dateTime\"]\n",
        "df = pd.DataFrame(columns=[x])\n",
        "df_master = pd.DataFrame()\n",
        "for file in os.listdir(dir):\n",
        "  if file.endswith(\".nc4\"):\n",
        "    df_oco = netCDF4.Dataset(dir + \"/\" + file)\n",
        "    presnt_cols = list(df_oco.variables.keys())\n",
        "    for col in x:\n",
        "      if col in presnt_cols:\n",
        "          df[col] = pd.Series(df_oco[col][:].filled(np.nan))\n",
        "          df.dropna(inplace=True, axis=1)\n",
        "          df_master = pd.concat([df_master,df],ignore_index=True)"
      ],
      "metadata": {
        "id": "6A8IaAj08gLM"
      },
      "execution_count": null,
      "outputs": []
    }
  ]
}